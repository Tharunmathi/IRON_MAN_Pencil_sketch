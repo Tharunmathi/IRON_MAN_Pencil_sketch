{
 "cells": [
  {
   "cell_type": "markdown",
   "id": "b59f0c14",
   "metadata": {},
   "source": [
    "# CALENDAR"
   ]
  },
  {
   "cell_type": "code",
   "execution_count": 6,
   "id": "0a4e379e",
   "metadata": {},
   "outputs": [
    {
     "name": "stdout",
     "output_type": "stream",
     "text": [
      "    August 2021\n",
      "Mo Tu We Th Fr Sa Su\n",
      "                   1\n",
      " 2  3  4  5  6  7  8\n",
      " 9 10 11 12 13 14 15\n",
      "16 17 18 19 20 21 22\n",
      "23 24 25 26 27 28 29\n",
      "30 31\n",
      "\n"
     ]
    }
   ],
   "source": [
    "import calendar as cld\n",
    "print(cld.month(2021,8))"
   ]
  },
  {
   "cell_type": "code",
   "execution_count": 2,
   "id": "ade1f8d1",
   "metadata": {},
   "outputs": [
    {
     "name": "stdout",
     "output_type": "stream",
     "text": [
      "                                  2022\n",
      "\n",
      "      January                   February                   March\n",
      "Mo Tu We Th Fr Sa Su      Mo Tu We Th Fr Sa Su      Mo Tu We Th Fr Sa Su\n",
      "                1  2          1  2  3  4  5  6          1  2  3  4  5  6\n",
      " 3  4  5  6  7  8  9       7  8  9 10 11 12 13       7  8  9 10 11 12 13\n",
      "10 11 12 13 14 15 16      14 15 16 17 18 19 20      14 15 16 17 18 19 20\n",
      "17 18 19 20 21 22 23      21 22 23 24 25 26 27      21 22 23 24 25 26 27\n",
      "24 25 26 27 28 29 30      28                        28 29 30 31\n",
      "31\n",
      "\n",
      "       April                      May                       June\n",
      "Mo Tu We Th Fr Sa Su      Mo Tu We Th Fr Sa Su      Mo Tu We Th Fr Sa Su\n",
      "             1  2  3                         1             1  2  3  4  5\n",
      " 4  5  6  7  8  9 10       2  3  4  5  6  7  8       6  7  8  9 10 11 12\n",
      "11 12 13 14 15 16 17       9 10 11 12 13 14 15      13 14 15 16 17 18 19\n",
      "18 19 20 21 22 23 24      16 17 18 19 20 21 22      20 21 22 23 24 25 26\n",
      "25 26 27 28 29 30         23 24 25 26 27 28 29      27 28 29 30\n",
      "                          30 31\n",
      "\n",
      "        July                     August                  September\n",
      "Mo Tu We Th Fr Sa Su      Mo Tu We Th Fr Sa Su      Mo Tu We Th Fr Sa Su\n",
      "             1  2  3       1  2  3  4  5  6  7                1  2  3  4\n",
      " 4  5  6  7  8  9 10       8  9 10 11 12 13 14       5  6  7  8  9 10 11\n",
      "11 12 13 14 15 16 17      15 16 17 18 19 20 21      12 13 14 15 16 17 18\n",
      "18 19 20 21 22 23 24      22 23 24 25 26 27 28      19 20 21 22 23 24 25\n",
      "25 26 27 28 29 30 31      29 30 31                  26 27 28 29 30\n",
      "\n",
      "      October                   November                  December\n",
      "Mo Tu We Th Fr Sa Su      Mo Tu We Th Fr Sa Su      Mo Tu We Th Fr Sa Su\n",
      "                1  2          1  2  3  4  5  6                1  2  3  4\n",
      " 3  4  5  6  7  8  9       7  8  9 10 11 12 13       5  6  7  8  9 10 11\n",
      "10 11 12 13 14 15 16      14 15 16 17 18 19 20      12 13 14 15 16 17 18\n",
      "17 18 19 20 21 22 23      21 22 23 24 25 26 27      19 20 21 22 23 24 25\n",
      "24 25 26 27 28 29 30      28 29 30                  26 27 28 29 30 31\n",
      "31\n",
      "\n"
     ]
    }
   ],
   "source": [
    "import calendar as cld\n",
    "print(cld.calendar(2022))"
   ]
  },
  {
   "cell_type": "markdown",
   "id": "a9df11e9",
   "metadata": {},
   "source": [
    "# SEND WHATSAPP MESSAGE"
   ]
  },
  {
   "cell_type": "code",
   "execution_count": 3,
   "id": "888d83ed",
   "metadata": {},
   "outputs": [
    {
     "name": "stdout",
     "output_type": "stream",
     "text": [
      "In 13 seconds web.whatsapp.com will open and after 20 seconds message will be delivered\n"
     ]
    }
   ],
   "source": [
    "import pywhatkit as pwt            # whatsapp message\n",
    "pwt.sendwhatmsg(\"+919392746638\",\"HI GOOD EVENING\",15,34)"
   ]
  },
  {
   "cell_type": "markdown",
   "id": "4b6c99de",
   "metadata": {},
   "source": [
    "# YOUTUBE SEARCH"
   ]
  },
  {
   "cell_type": "code",
   "execution_count": 2,
   "id": "7c8a45d6",
   "metadata": {},
   "outputs": [
    {
     "data": {
      "text/plain": [
       "'https://www.youtube.com/watch?v=qn0VbSFeTyY\\\\\\\\u0026list=PLLOxZwkBK52DmuHRO3UNpqAzDF57FtIxk'"
      ]
     },
     "execution_count": 2,
     "metadata": {},
     "output_type": "execute_result"
    }
   ],
   "source": [
    "import pywhatkit as pwt       #youtube saerch\n",
    "pwt.playonyt(\"PYTHON PROGRAMS by sundeep\")"
   ]
  },
  {
   "cell_type": "markdown",
   "id": "59b7c278",
   "metadata": {},
   "source": [
    "# GOOGLE SEARCH"
   ]
  },
  {
   "cell_type": "code",
   "execution_count": 7,
   "id": "213e1909",
   "metadata": {},
   "outputs": [],
   "source": [
    "import pywhatkit as pwt         #google search\n",
    "pwt.search(\"tiger photos\")"
   ]
  },
  {
   "cell_type": "markdown",
   "id": "6d90e472",
   "metadata": {},
   "source": [
    "# DIGITAL CLOCK"
   ]
  },
  {
   "cell_type": "code",
   "execution_count": 3,
   "id": "c312f57d",
   "metadata": {},
   "outputs": [],
   "source": [
    "from tkinter import *      #DIGITAL CLOCK\n",
    "import time as t\n",
    "dc=Tk()\n",
    "dc.title(\"DIGITAL CLOCK\")\n",
    "dc.geometry(\"500x100\")\n",
    "def time():\n",
    "    d=t.strftime(\"%d-%m-%y  , %H:%M:%S %p\")\n",
    "    l.config(text=d)\n",
    "    l.after(1000,time)\n",
    "    \n",
    "l=Label(dc,font=(\"Arial\",25),bg=\"black\",fg=\"yellow\")\n",
    "l.pack()\n",
    "\n",
    "time()\n",
    "mainloop()"
   ]
  },
  {
   "cell_type": "markdown",
   "id": "914c75ea",
   "metadata": {},
   "source": [
    "# TEXT TO HANDWRITING"
   ]
  },
  {
   "cell_type": "code",
   "execution_count": 1,
   "id": "c43473a5",
   "metadata": {},
   "outputs": [],
   "source": [
    "import pywhatkit as pwt   # text to handwriting\n",
    "pwt.text_to_handwriting(\"HI,THARUN WELCOME\",\"C:\\\\Users\\\\THARUN\\\\OneDrive\\\\Desktop\\\\output.png\",[10,10,10])"
   ]
  },
  {
   "cell_type": "code",
   "execution_count": 4,
   "id": "23677a90",
   "metadata": {},
   "outputs": [],
   "source": [
    "fo=open(\"C:\\\\Users\\\\THARUN\\\\OneDrive\\\\Desktop\\\\text to handwriting.txt\",\"r\")\n",
    "str=fo.read()\n",
    "pwt.text_to_handwriting(str,\"C:\\\\Users\\\\THARUN\\\\OneDrive\\\\Desktop\\\\output.txt\",[20,10,0])"
   ]
  },
  {
   "cell_type": "code",
   "execution_count": null,
   "id": "0e6289d7",
   "metadata": {},
   "outputs": [],
   "source": []
  },
  {
   "cell_type": "markdown",
   "id": "40ac6b3d",
   "metadata": {},
   "source": [
    "# PATTERNS"
   ]
  },
  {
   "cell_type": "code",
   "execution_count": 6,
   "id": "1f4e3b88",
   "metadata": {},
   "outputs": [
    {
     "name": "stdout",
     "output_type": "stream",
     "text": [
      "Enter no of rows:10\n",
      "* \n",
      "* * \n",
      "* * * \n",
      "* * * * \n",
      "* * * * * \n",
      "* * * * * * \n",
      "* * * * * * * \n",
      "* * * * * * * * \n",
      "* * * * * * * * * \n",
      "* * * * * * * * * * \n"
     ]
    }
   ],
   "source": [
    "n=int(input(\"Enter no of rows:\"))\n",
    "for i in range(n):\n",
    "    for j in range(i+1):\n",
    "          print(\"*\",end=\" \")\n",
    "    print()"
   ]
  },
  {
   "cell_type": "code",
   "execution_count": 1,
   "id": "d3bb8185",
   "metadata": {},
   "outputs": [
    {
     "name": "stdout",
     "output_type": "stream",
     "text": [
      "Enter no of rows:10\n",
      "* * * * * * * * * * \n",
      "* * * * * * * * * \n",
      "* * * * * * * * \n",
      "* * * * * * * \n",
      "* * * * * * \n",
      "* * * * * \n",
      "* * * * \n",
      "* * * \n",
      "* * \n",
      "* \n"
     ]
    }
   ],
   "source": [
    "n=int(input(\"Enter no of rows:\"))\n",
    "for i in range(n,0,-1):\n",
    "    for j in range(i,0,-1):\n",
    "          print(\"*\",end=\" \")\n",
    "    print()"
   ]
  },
  {
   "cell_type": "code",
   "execution_count": 3,
   "id": "db030dae",
   "metadata": {},
   "outputs": [
    {
     "name": "stdout",
     "output_type": "stream",
     "text": [
      "Enter from the user:6\n",
      "\n",
      "1 \n",
      "2 2 \n",
      "3 3 3 \n",
      "4 4 4 4 \n",
      "5 5 5 5 5 \n"
     ]
    }
   ],
   "source": [
    "x=int(input(\"Enter from the user:\"))\n",
    "for i in range(x):\n",
    "    for j in range(i):\n",
    "        print(i,end=\" \")\n",
    "    print()"
   ]
  },
  {
   "cell_type": "code",
   "execution_count": 4,
   "id": "97bb2e1d",
   "metadata": {},
   "outputs": [
    {
     "name": "stdout",
     "output_type": "stream",
     "text": [
      "Enter from the user:6\n",
      "6 6 6 6 6 6 \n",
      "5 5 5 5 5 \n",
      "4 4 4 4 \n",
      "3 3 3 \n",
      "2 2 \n",
      "1 \n"
     ]
    }
   ],
   "source": [
    "x=int(input(\"Enter from the user:\"))\n",
    "for i in range(x,0,-1):\n",
    "    for j in range(i,0,-1):\n",
    "        print(i,end=\" \")\n",
    "    print()"
   ]
  },
  {
   "cell_type": "code",
   "execution_count": 2,
   "id": "59c09fec",
   "metadata": {},
   "outputs": [
    {
     "name": "stdout",
     "output_type": "stream",
     "text": [
      "Enter from the user:5\n",
      "\n",
      "1 \n",
      "1 2 \n",
      "1 2 3 \n",
      "1 2 3 4 \n",
      "1 2 3 4 5 \n"
     ]
    }
   ],
   "source": [
    "n=int(input(\"Enter from the user:\"))\n",
    "for i in range(n+1):\n",
    "    for j in range(1,i+1):\n",
    "        print(j,end=\" \")\n",
    "    print()"
   ]
  },
  {
   "cell_type": "code",
   "execution_count": 8,
   "id": "ad2dc49c",
   "metadata": {},
   "outputs": [
    {
     "name": "stdout",
     "output_type": "stream",
     "text": [
      "Enter from the user:6\n",
      "1 2 3 4 5 6 \n",
      "1 2 3 4 5 \n",
      "1 2 3 4 \n",
      "1 2 3 \n",
      "1 2 \n",
      "1 \n"
     ]
    }
   ],
   "source": [
    "n=int(input(\"Enter from the user:\"))\n",
    "for i in range(n,0,-1):\n",
    "    for j in range(1,i+1):\n",
    "        print(j,end=\" \")\n",
    "    print()"
   ]
  },
  {
   "cell_type": "code",
   "execution_count": 1,
   "id": "c3a6825d",
   "metadata": {},
   "outputs": [
    {
     "name": "stdout",
     "output_type": "stream",
     "text": [
      "enter from the user:7\n",
      "\n",
      "1 \n",
      "2 1 \n",
      "3 2 1 \n",
      "4 3 2 1 \n",
      "5 4 3 2 1 \n",
      "6 5 4 3 2 1 \n"
     ]
    }
   ],
   "source": [
    "n=int(input(\"enter from the user:\"))\n",
    "for i in range(n):\n",
    "    for j in range(i,0,-1):\n",
    "        print(j, end=\" \")\n",
    "    print()"
   ]
  },
  {
   "cell_type": "code",
   "execution_count": 5,
   "id": "bab65d0c",
   "metadata": {},
   "outputs": [
    {
     "name": "stdout",
     "output_type": "stream",
     "text": [
      "enter from the user:6\n",
      "6 5 4 3 2 1 \n",
      "5 4 3 2 1 \n",
      "4 3 2 1 \n",
      "3 2 1 \n",
      "2 1 \n",
      "1 \n"
     ]
    }
   ],
   "source": [
    "n=int(input(\"enter from the user:\"))\n",
    "for i in range(n,0,-1):\n",
    "    for j in range(i,0,-1):\n",
    "        print(j, end=\" \")\n",
    "    print()"
   ]
  },
  {
   "cell_type": "code",
   "execution_count": 8,
   "id": "cf22b652",
   "metadata": {},
   "outputs": [
    {
     "name": "stdout",
     "output_type": "stream",
     "text": [
      "1 \n",
      "1 2 1 \n",
      "1 2 3 2 1 \n",
      "1 2 3 4 3 2 1 \n",
      "1 2 3 4 5 4 3 2 1 \n"
     ]
    }
   ],
   "source": [
    "\n",
    "for i in range(1,6):\n",
    "    for j in range(1,i+1):\n",
    "        print(j,end=\" \")\n",
    "    for k in range(j-1,0,-1):\n",
    "        print(k,end=\" \")\n",
    "    print()"
   ]
  },
  {
   "cell_type": "code",
   "execution_count": 10,
   "id": "eb0aa72a",
   "metadata": {},
   "outputs": [
    {
     "name": "stdout",
     "output_type": "stream",
     "text": [
      "1 \n",
      "2 3 4 \n",
      "5 6 7 8 9 \n",
      "10 11 12 13 14 15 16 \n",
      "17 18 19 20 21 22 23 24 25 \n"
     ]
    }
   ],
   "source": [
    "number=1\n",
    "col=1\n",
    "for i in range(1,6):\n",
    "    for j in range(1,col+1):\n",
    "        print(number,end=\" \")\n",
    "        number+=1\n",
    "    col+=2\n",
    "    print()"
   ]
  },
  {
   "cell_type": "code",
   "execution_count": 6,
   "id": "ac18d2b3",
   "metadata": {},
   "outputs": [
    {
     "name": "stdout",
     "output_type": "stream",
     "text": [
      "        * \n",
      "      * * \n",
      "    * * * \n",
      "  * * * * \n",
      "* * * * * \n"
     ]
    }
   ],
   "source": [
    "for i in range(1,6):\n",
    "    for j in range(5,i,-1):\n",
    "        print(\" \",end=\" \")\n",
    "    for k in range(1,i+1):\n",
    "        print(\"*\",end=\" \")\n",
    "    print( )"
   ]
  },
  {
   "cell_type": "code",
   "execution_count": 8,
   "id": "2de47423",
   "metadata": {},
   "outputs": [
    {
     "name": "stdout",
     "output_type": "stream",
     "text": [
      "* * * * * \n",
      "  * * * * \n",
      "    * * * \n",
      "      * * \n",
      "        * \n"
     ]
    }
   ],
   "source": [
    "for i in range(5,0,-1):\n",
    "    for j in range(5,i,-1):\n",
    "        print(\" \",end=\" \")\n",
    "    for k in range(1,i+1):\n",
    "        print(\"*\",end=\" \")\n",
    "    print( )"
   ]
  },
  {
   "cell_type": "markdown",
   "id": "e9ed5773",
   "metadata": {},
   "source": [
    "# MAP"
   ]
  },
  {
   "cell_type": "code",
   "execution_count": 4,
   "id": "cd45e260",
   "metadata": {
    "scrolled": true
   },
   "outputs": [
    {
     "data": {
      "text/html": [
       "<div style=\"width:100%;\"><div style=\"position:relative;width:100%;height:0;padding-bottom:60%;\"><span style=\"color:#565656\">Make this Notebook Trusted to load map: File -> Trust Notebook</span><iframe src=\"about:blank\" style=\"position:absolute;width:100%;height:100%;left:0;top:0;border:none !important;\" data-html=%3C%21DOCTYPE%20html%3E%0A%3Chead%3E%20%20%20%20%0A%20%20%20%20%3Cmeta%20http-equiv%3D%22content-type%22%20content%3D%22text/html%3B%20charset%3DUTF-8%22%20/%3E%0A%20%20%20%20%0A%20%20%20%20%20%20%20%20%3Cscript%3E%0A%20%20%20%20%20%20%20%20%20%20%20%20L_NO_TOUCH%20%3D%20false%3B%0A%20%20%20%20%20%20%20%20%20%20%20%20L_DISABLE_3D%20%3D%20false%3B%0A%20%20%20%20%20%20%20%20%3C/script%3E%0A%20%20%20%20%0A%20%20%20%20%3Cstyle%3Ehtml%2C%20body%20%7Bwidth%3A%20100%25%3Bheight%3A%20100%25%3Bmargin%3A%200%3Bpadding%3A%200%3B%7D%3C/style%3E%0A%20%20%20%20%3Cstyle%3E%23map%20%7Bposition%3Aabsolute%3Btop%3A0%3Bbottom%3A0%3Bright%3A0%3Bleft%3A0%3B%7D%3C/style%3E%0A%20%20%20%20%3Cscript%20src%3D%22https%3A//cdn.jsdelivr.net/npm/leaflet%401.6.0/dist/leaflet.js%22%3E%3C/script%3E%0A%20%20%20%20%3Cscript%20src%3D%22https%3A//code.jquery.com/jquery-1.12.4.min.js%22%3E%3C/script%3E%0A%20%20%20%20%3Cscript%20src%3D%22https%3A//maxcdn.bootstrapcdn.com/bootstrap/3.2.0/js/bootstrap.min.js%22%3E%3C/script%3E%0A%20%20%20%20%3Cscript%20src%3D%22https%3A//cdnjs.cloudflare.com/ajax/libs/Leaflet.awesome-markers/2.0.2/leaflet.awesome-markers.js%22%3E%3C/script%3E%0A%20%20%20%20%3Clink%20rel%3D%22stylesheet%22%20href%3D%22https%3A//cdn.jsdelivr.net/npm/leaflet%401.6.0/dist/leaflet.css%22/%3E%0A%20%20%20%20%3Clink%20rel%3D%22stylesheet%22%20href%3D%22https%3A//maxcdn.bootstrapcdn.com/bootstrap/3.2.0/css/bootstrap.min.css%22/%3E%0A%20%20%20%20%3Clink%20rel%3D%22stylesheet%22%20href%3D%22https%3A//maxcdn.bootstrapcdn.com/bootstrap/3.2.0/css/bootstrap-theme.min.css%22/%3E%0A%20%20%20%20%3Clink%20rel%3D%22stylesheet%22%20href%3D%22https%3A//maxcdn.bootstrapcdn.com/font-awesome/4.6.3/css/font-awesome.min.css%22/%3E%0A%20%20%20%20%3Clink%20rel%3D%22stylesheet%22%20href%3D%22https%3A//cdnjs.cloudflare.com/ajax/libs/Leaflet.awesome-markers/2.0.2/leaflet.awesome-markers.css%22/%3E%0A%20%20%20%20%3Clink%20rel%3D%22stylesheet%22%20href%3D%22https%3A//cdn.jsdelivr.net/gh/python-visualization/folium/folium/templates/leaflet.awesome.rotate.min.css%22/%3E%0A%20%20%20%20%0A%20%20%20%20%20%20%20%20%20%20%20%20%3Cmeta%20name%3D%22viewport%22%20content%3D%22width%3Ddevice-width%2C%0A%20%20%20%20%20%20%20%20%20%20%20%20%20%20%20%20initial-scale%3D1.0%2C%20maximum-scale%3D1.0%2C%20user-scalable%3Dno%22%20/%3E%0A%20%20%20%20%20%20%20%20%20%20%20%20%3Cstyle%3E%0A%20%20%20%20%20%20%20%20%20%20%20%20%20%20%20%20%23map_c4e27096dfb6450bb72c2b5e4d1a62d9%20%7B%0A%20%20%20%20%20%20%20%20%20%20%20%20%20%20%20%20%20%20%20%20position%3A%20relative%3B%0A%20%20%20%20%20%20%20%20%20%20%20%20%20%20%20%20%20%20%20%20width%3A%20100.0%25%3B%0A%20%20%20%20%20%20%20%20%20%20%20%20%20%20%20%20%20%20%20%20height%3A%20100.0%25%3B%0A%20%20%20%20%20%20%20%20%20%20%20%20%20%20%20%20%20%20%20%20left%3A%200.0%25%3B%0A%20%20%20%20%20%20%20%20%20%20%20%20%20%20%20%20%20%20%20%20top%3A%200.0%25%3B%0A%20%20%20%20%20%20%20%20%20%20%20%20%20%20%20%20%7D%0A%20%20%20%20%20%20%20%20%20%20%20%20%3C/style%3E%0A%20%20%20%20%20%20%20%20%0A%3C/head%3E%0A%3Cbody%3E%20%20%20%20%0A%20%20%20%20%0A%20%20%20%20%20%20%20%20%20%20%20%20%3Cdiv%20class%3D%22folium-map%22%20id%3D%22map_c4e27096dfb6450bb72c2b5e4d1a62d9%22%20%3E%3C/div%3E%0A%20%20%20%20%20%20%20%20%0A%3C/body%3E%0A%3Cscript%3E%20%20%20%20%0A%20%20%20%20%0A%20%20%20%20%20%20%20%20%20%20%20%20var%20map_c4e27096dfb6450bb72c2b5e4d1a62d9%20%3D%20L.map%28%0A%20%20%20%20%20%20%20%20%20%20%20%20%20%20%20%20%22map_c4e27096dfb6450bb72c2b5e4d1a62d9%22%2C%0A%20%20%20%20%20%20%20%20%20%20%20%20%20%20%20%20%7B%0A%20%20%20%20%20%20%20%20%20%20%20%20%20%20%20%20%20%20%20%20center%3A%20%5B0%2C%200%5D%2C%0A%20%20%20%20%20%20%20%20%20%20%20%20%20%20%20%20%20%20%20%20crs%3A%20L.CRS.EPSG3857%2C%0A%20%20%20%20%20%20%20%20%20%20%20%20%20%20%20%20%20%20%20%20zoom%3A%201%2C%0A%20%20%20%20%20%20%20%20%20%20%20%20%20%20%20%20%20%20%20%20zoomControl%3A%20true%2C%0A%20%20%20%20%20%20%20%20%20%20%20%20%20%20%20%20%20%20%20%20preferCanvas%3A%20false%2C%0A%20%20%20%20%20%20%20%20%20%20%20%20%20%20%20%20%7D%0A%20%20%20%20%20%20%20%20%20%20%20%20%29%3B%0A%0A%20%20%20%20%20%20%20%20%20%20%20%20%0A%0A%20%20%20%20%20%20%20%20%0A%20%20%20%20%0A%20%20%20%20%20%20%20%20%20%20%20%20var%20tile_layer_1f29a1398d484e408eca23de23fffc9b%20%3D%20L.tileLayer%28%0A%20%20%20%20%20%20%20%20%20%20%20%20%20%20%20%20%22https%3A//%7Bs%7D.tile.openstreetmap.org/%7Bz%7D/%7Bx%7D/%7By%7D.png%22%2C%0A%20%20%20%20%20%20%20%20%20%20%20%20%20%20%20%20%7B%22attribution%22%3A%20%22Data%20by%20%5Cu0026copy%3B%20%5Cu003ca%20href%3D%5C%22http%3A//openstreetmap.org%5C%22%5Cu003eOpenStreetMap%5Cu003c/a%5Cu003e%2C%20under%20%5Cu003ca%20href%3D%5C%22http%3A//www.openstreetmap.org/copyright%5C%22%5Cu003eODbL%5Cu003c/a%5Cu003e.%22%2C%20%22detectRetina%22%3A%20false%2C%20%22maxNativeZoom%22%3A%2018%2C%20%22maxZoom%22%3A%2018%2C%20%22minZoom%22%3A%200%2C%20%22noWrap%22%3A%20false%2C%20%22opacity%22%3A%201%2C%20%22subdomains%22%3A%20%22abc%22%2C%20%22tms%22%3A%20false%7D%0A%20%20%20%20%20%20%20%20%20%20%20%20%29.addTo%28map_c4e27096dfb6450bb72c2b5e4d1a62d9%29%3B%0A%20%20%20%20%20%20%20%20%0A%3C/script%3E onload=\"this.contentDocument.open();this.contentDocument.write(    decodeURIComponent(this.getAttribute('data-html')));this.contentDocument.close();\" allowfullscreen webkitallowfullscreen mozallowfullscreen></iframe></div></div>"
      ],
      "text/plain": [
       "<folium.folium.Map at 0x2285a845ac0>"
      ]
     },
     "execution_count": 4,
     "metadata": {},
     "output_type": "execute_result"
    }
   ],
   "source": [
    "import folium as fo\n",
    "map=fo.Map()\n",
    "map"
   ]
  },
  {
   "cell_type": "code",
   "execution_count": 5,
   "id": "1bedcfa0",
   "metadata": {},
   "outputs": [
    {
     "data": {
      "text/html": [
       "<div style=\"width:100%;\"><div style=\"position:relative;width:100%;height:0;padding-bottom:60%;\"><span style=\"color:#565656\">Make this Notebook Trusted to load map: File -> Trust Notebook</span><iframe src=\"about:blank\" style=\"position:absolute;width:100%;height:100%;left:0;top:0;border:none !important;\" data-html=%3C%21DOCTYPE%20html%3E%0A%3Chead%3E%20%20%20%20%0A%20%20%20%20%3Cmeta%20http-equiv%3D%22content-type%22%20content%3D%22text/html%3B%20charset%3DUTF-8%22%20/%3E%0A%20%20%20%20%0A%20%20%20%20%20%20%20%20%3Cscript%3E%0A%20%20%20%20%20%20%20%20%20%20%20%20L_NO_TOUCH%20%3D%20false%3B%0A%20%20%20%20%20%20%20%20%20%20%20%20L_DISABLE_3D%20%3D%20false%3B%0A%20%20%20%20%20%20%20%20%3C/script%3E%0A%20%20%20%20%0A%20%20%20%20%3Cstyle%3Ehtml%2C%20body%20%7Bwidth%3A%20100%25%3Bheight%3A%20100%25%3Bmargin%3A%200%3Bpadding%3A%200%3B%7D%3C/style%3E%0A%20%20%20%20%3Cstyle%3E%23map%20%7Bposition%3Aabsolute%3Btop%3A0%3Bbottom%3A0%3Bright%3A0%3Bleft%3A0%3B%7D%3C/style%3E%0A%20%20%20%20%3Cscript%20src%3D%22https%3A//cdn.jsdelivr.net/npm/leaflet%401.6.0/dist/leaflet.js%22%3E%3C/script%3E%0A%20%20%20%20%3Cscript%20src%3D%22https%3A//code.jquery.com/jquery-1.12.4.min.js%22%3E%3C/script%3E%0A%20%20%20%20%3Cscript%20src%3D%22https%3A//maxcdn.bootstrapcdn.com/bootstrap/3.2.0/js/bootstrap.min.js%22%3E%3C/script%3E%0A%20%20%20%20%3Cscript%20src%3D%22https%3A//cdnjs.cloudflare.com/ajax/libs/Leaflet.awesome-markers/2.0.2/leaflet.awesome-markers.js%22%3E%3C/script%3E%0A%20%20%20%20%3Clink%20rel%3D%22stylesheet%22%20href%3D%22https%3A//cdn.jsdelivr.net/npm/leaflet%401.6.0/dist/leaflet.css%22/%3E%0A%20%20%20%20%3Clink%20rel%3D%22stylesheet%22%20href%3D%22https%3A//maxcdn.bootstrapcdn.com/bootstrap/3.2.0/css/bootstrap.min.css%22/%3E%0A%20%20%20%20%3Clink%20rel%3D%22stylesheet%22%20href%3D%22https%3A//maxcdn.bootstrapcdn.com/bootstrap/3.2.0/css/bootstrap-theme.min.css%22/%3E%0A%20%20%20%20%3Clink%20rel%3D%22stylesheet%22%20href%3D%22https%3A//maxcdn.bootstrapcdn.com/font-awesome/4.6.3/css/font-awesome.min.css%22/%3E%0A%20%20%20%20%3Clink%20rel%3D%22stylesheet%22%20href%3D%22https%3A//cdnjs.cloudflare.com/ajax/libs/Leaflet.awesome-markers/2.0.2/leaflet.awesome-markers.css%22/%3E%0A%20%20%20%20%3Clink%20rel%3D%22stylesheet%22%20href%3D%22https%3A//cdn.jsdelivr.net/gh/python-visualization/folium/folium/templates/leaflet.awesome.rotate.min.css%22/%3E%0A%20%20%20%20%0A%20%20%20%20%20%20%20%20%20%20%20%20%3Cmeta%20name%3D%22viewport%22%20content%3D%22width%3Ddevice-width%2C%0A%20%20%20%20%20%20%20%20%20%20%20%20%20%20%20%20initial-scale%3D1.0%2C%20maximum-scale%3D1.0%2C%20user-scalable%3Dno%22%20/%3E%0A%20%20%20%20%20%20%20%20%20%20%20%20%3Cstyle%3E%0A%20%20%20%20%20%20%20%20%20%20%20%20%20%20%20%20%23map_c4e27096dfb6450bb72c2b5e4d1a62d9%20%7B%0A%20%20%20%20%20%20%20%20%20%20%20%20%20%20%20%20%20%20%20%20position%3A%20relative%3B%0A%20%20%20%20%20%20%20%20%20%20%20%20%20%20%20%20%20%20%20%20width%3A%20100.0%25%3B%0A%20%20%20%20%20%20%20%20%20%20%20%20%20%20%20%20%20%20%20%20height%3A%20100.0%25%3B%0A%20%20%20%20%20%20%20%20%20%20%20%20%20%20%20%20%20%20%20%20left%3A%200.0%25%3B%0A%20%20%20%20%20%20%20%20%20%20%20%20%20%20%20%20%20%20%20%20top%3A%200.0%25%3B%0A%20%20%20%20%20%20%20%20%20%20%20%20%20%20%20%20%7D%0A%20%20%20%20%20%20%20%20%20%20%20%20%3C/style%3E%0A%20%20%20%20%20%20%20%20%0A%3C/head%3E%0A%3Cbody%3E%20%20%20%20%0A%20%20%20%20%0A%20%20%20%20%20%20%20%20%20%20%20%20%3Cdiv%20class%3D%22folium-map%22%20id%3D%22map_c4e27096dfb6450bb72c2b5e4d1a62d9%22%20%3E%3C/div%3E%0A%20%20%20%20%20%20%20%20%0A%3C/body%3E%0A%3Cscript%3E%20%20%20%20%0A%20%20%20%20%0A%20%20%20%20%20%20%20%20%20%20%20%20var%20map_c4e27096dfb6450bb72c2b5e4d1a62d9%20%3D%20L.map%28%0A%20%20%20%20%20%20%20%20%20%20%20%20%20%20%20%20%22map_c4e27096dfb6450bb72c2b5e4d1a62d9%22%2C%0A%20%20%20%20%20%20%20%20%20%20%20%20%20%20%20%20%7B%0A%20%20%20%20%20%20%20%20%20%20%20%20%20%20%20%20%20%20%20%20center%3A%20%5B0%2C%200%5D%2C%0A%20%20%20%20%20%20%20%20%20%20%20%20%20%20%20%20%20%20%20%20crs%3A%20L.CRS.EPSG3857%2C%0A%20%20%20%20%20%20%20%20%20%20%20%20%20%20%20%20%20%20%20%20zoom%3A%201%2C%0A%20%20%20%20%20%20%20%20%20%20%20%20%20%20%20%20%20%20%20%20zoomControl%3A%20true%2C%0A%20%20%20%20%20%20%20%20%20%20%20%20%20%20%20%20%20%20%20%20preferCanvas%3A%20false%2C%0A%20%20%20%20%20%20%20%20%20%20%20%20%20%20%20%20%7D%0A%20%20%20%20%20%20%20%20%20%20%20%20%29%3B%0A%0A%20%20%20%20%20%20%20%20%20%20%20%20%0A%0A%20%20%20%20%20%20%20%20%0A%20%20%20%20%0A%20%20%20%20%20%20%20%20%20%20%20%20var%20tile_layer_1f29a1398d484e408eca23de23fffc9b%20%3D%20L.tileLayer%28%0A%20%20%20%20%20%20%20%20%20%20%20%20%20%20%20%20%22https%3A//%7Bs%7D.tile.openstreetmap.org/%7Bz%7D/%7Bx%7D/%7By%7D.png%22%2C%0A%20%20%20%20%20%20%20%20%20%20%20%20%20%20%20%20%7B%22attribution%22%3A%20%22Data%20by%20%5Cu0026copy%3B%20%5Cu003ca%20href%3D%5C%22http%3A//openstreetmap.org%5C%22%5Cu003eOpenStreetMap%5Cu003c/a%5Cu003e%2C%20under%20%5Cu003ca%20href%3D%5C%22http%3A//www.openstreetmap.org/copyright%5C%22%5Cu003eODbL%5Cu003c/a%5Cu003e.%22%2C%20%22detectRetina%22%3A%20false%2C%20%22maxNativeZoom%22%3A%2018%2C%20%22maxZoom%22%3A%2018%2C%20%22minZoom%22%3A%200%2C%20%22noWrap%22%3A%20false%2C%20%22opacity%22%3A%201%2C%20%22subdomains%22%3A%20%22abc%22%2C%20%22tms%22%3A%20false%7D%0A%20%20%20%20%20%20%20%20%20%20%20%20%29.addTo%28map_c4e27096dfb6450bb72c2b5e4d1a62d9%29%3B%0A%20%20%20%20%20%20%20%20%0A%20%20%20%20%0A%20%20%20%20%20%20%20%20%20%20%20%20var%20feature_group_0164903ed3ab4669b6bc5878ae684581%20%3D%20L.featureGroup%28%0A%20%20%20%20%20%20%20%20%20%20%20%20%20%20%20%20%7B%7D%0A%20%20%20%20%20%20%20%20%20%20%20%20%29.addTo%28map_c4e27096dfb6450bb72c2b5e4d1a62d9%29%3B%0A%20%20%20%20%20%20%20%20%0A%20%20%20%20%0A%20%20%20%20%20%20%20%20%20%20%20%20var%20marker_40cf59d997f145f39f4887101bf6b80f%20%3D%20L.marker%28%0A%20%20%20%20%20%20%20%20%20%20%20%20%20%20%20%20%5B27.175%2C%2078.0422%5D%2C%0A%20%20%20%20%20%20%20%20%20%20%20%20%20%20%20%20%7B%7D%0A%20%20%20%20%20%20%20%20%20%20%20%20%29.addTo%28feature_group_0164903ed3ab4669b6bc5878ae684581%29%3B%0A%20%20%20%20%20%20%20%20%0A%20%20%20%20%0A%20%20%20%20%20%20%20%20%20%20%20%20var%20icon_705cfe8c1db54f1e9b21fdee8cbecefb%20%3D%20L.AwesomeMarkers.icon%28%0A%20%20%20%20%20%20%20%20%20%20%20%20%20%20%20%20%7B%22extraClasses%22%3A%20%22fa-rotate-0%22%2C%20%22icon%22%3A%20%22info-sign%22%2C%20%22iconColor%22%3A%20%22white%22%2C%20%22markerColor%22%3A%20%22red%22%2C%20%22prefix%22%3A%20%22glyphicon%22%7D%0A%20%20%20%20%20%20%20%20%20%20%20%20%29%3B%0A%20%20%20%20%20%20%20%20%20%20%20%20marker_40cf59d997f145f39f4887101bf6b80f.setIcon%28icon_705cfe8c1db54f1e9b21fdee8cbecefb%29%3B%0A%20%20%20%20%20%20%20%20%0A%20%20%20%20%0A%20%20%20%20%20%20%20%20var%20popup_51ccf53ef02c4349849c2ca4c6988701%20%3D%20L.popup%28%7B%22maxWidth%22%3A%20%22100%25%22%7D%29%3B%0A%0A%20%20%20%20%20%20%20%20%0A%20%20%20%20%20%20%20%20%20%20%20%20var%20html_3a5b994f124c4817ae2f5358459075bf%20%3D%20%24%28%60%3Cdiv%20id%3D%22html_3a5b994f124c4817ae2f5358459075bf%22%20style%3D%22width%3A%20100.0%25%3B%20height%3A%20100.0%25%3B%22%3ETajmahal%3C/div%3E%60%29%5B0%5D%3B%0A%20%20%20%20%20%20%20%20%20%20%20%20popup_51ccf53ef02c4349849c2ca4c6988701.setContent%28html_3a5b994f124c4817ae2f5358459075bf%29%3B%0A%20%20%20%20%20%20%20%20%0A%0A%20%20%20%20%20%20%20%20marker_40cf59d997f145f39f4887101bf6b80f.bindPopup%28popup_51ccf53ef02c4349849c2ca4c6988701%29%0A%20%20%20%20%20%20%20%20%3B%0A%0A%20%20%20%20%20%20%20%20%0A%20%20%20%20%0A%3C/script%3E onload=\"this.contentDocument.open();this.contentDocument.write(    decodeURIComponent(this.getAttribute('data-html')));this.contentDocument.close();\" allowfullscreen webkitallowfullscreen mozallowfullscreen></iframe></div></div>"
      ],
      "text/plain": [
       "<folium.folium.Map at 0x2285a845ac0>"
      ]
     },
     "execution_count": 5,
     "metadata": {},
     "output_type": "execute_result"
    }
   ],
   "source": [
    "x=fo.FeatureGroup(name=\"My Map\")\n",
    "x.add_child(fo.Marker(location=[27.1750,78.0422],\n",
    "                     popup=\"Tajmahal\",icon=fo.Icon(color=\"red\")))\n",
    "map.add_child(x)"
   ]
  },
  {
   "cell_type": "code",
   "execution_count": 3,
   "id": "c6547246",
   "metadata": {},
   "outputs": [
    {
     "data": {
      "text/html": [
       "<div style=\"width:100%;\"><div style=\"position:relative;width:100%;height:0;padding-bottom:60%;\"><span style=\"color:#565656\">Make this Notebook Trusted to load map: File -> Trust Notebook</span><iframe src=\"about:blank\" style=\"position:absolute;width:100%;height:100%;left:0;top:0;border:none !important;\" data-html=%3C%21DOCTYPE%20html%3E%0A%3Chead%3E%20%20%20%20%0A%20%20%20%20%3Cmeta%20http-equiv%3D%22content-type%22%20content%3D%22text/html%3B%20charset%3DUTF-8%22%20/%3E%0A%20%20%20%20%0A%20%20%20%20%20%20%20%20%3Cscript%3E%0A%20%20%20%20%20%20%20%20%20%20%20%20L_NO_TOUCH%20%3D%20false%3B%0A%20%20%20%20%20%20%20%20%20%20%20%20L_DISABLE_3D%20%3D%20false%3B%0A%20%20%20%20%20%20%20%20%3C/script%3E%0A%20%20%20%20%0A%20%20%20%20%3Cstyle%3Ehtml%2C%20body%20%7Bwidth%3A%20100%25%3Bheight%3A%20100%25%3Bmargin%3A%200%3Bpadding%3A%200%3B%7D%3C/style%3E%0A%20%20%20%20%3Cstyle%3E%23map%20%7Bposition%3Aabsolute%3Btop%3A0%3Bbottom%3A0%3Bright%3A0%3Bleft%3A0%3B%7D%3C/style%3E%0A%20%20%20%20%3Cscript%20src%3D%22https%3A//cdn.jsdelivr.net/npm/leaflet%401.6.0/dist/leaflet.js%22%3E%3C/script%3E%0A%20%20%20%20%3Cscript%20src%3D%22https%3A//code.jquery.com/jquery-1.12.4.min.js%22%3E%3C/script%3E%0A%20%20%20%20%3Cscript%20src%3D%22https%3A//maxcdn.bootstrapcdn.com/bootstrap/3.2.0/js/bootstrap.min.js%22%3E%3C/script%3E%0A%20%20%20%20%3Cscript%20src%3D%22https%3A//cdnjs.cloudflare.com/ajax/libs/Leaflet.awesome-markers/2.0.2/leaflet.awesome-markers.js%22%3E%3C/script%3E%0A%20%20%20%20%3Clink%20rel%3D%22stylesheet%22%20href%3D%22https%3A//cdn.jsdelivr.net/npm/leaflet%401.6.0/dist/leaflet.css%22/%3E%0A%20%20%20%20%3Clink%20rel%3D%22stylesheet%22%20href%3D%22https%3A//maxcdn.bootstrapcdn.com/bootstrap/3.2.0/css/bootstrap.min.css%22/%3E%0A%20%20%20%20%3Clink%20rel%3D%22stylesheet%22%20href%3D%22https%3A//maxcdn.bootstrapcdn.com/bootstrap/3.2.0/css/bootstrap-theme.min.css%22/%3E%0A%20%20%20%20%3Clink%20rel%3D%22stylesheet%22%20href%3D%22https%3A//maxcdn.bootstrapcdn.com/font-awesome/4.6.3/css/font-awesome.min.css%22/%3E%0A%20%20%20%20%3Clink%20rel%3D%22stylesheet%22%20href%3D%22https%3A//cdnjs.cloudflare.com/ajax/libs/Leaflet.awesome-markers/2.0.2/leaflet.awesome-markers.css%22/%3E%0A%20%20%20%20%3Clink%20rel%3D%22stylesheet%22%20href%3D%22https%3A//cdn.jsdelivr.net/gh/python-visualization/folium/folium/templates/leaflet.awesome.rotate.min.css%22/%3E%0A%20%20%20%20%0A%20%20%20%20%20%20%20%20%20%20%20%20%3Cmeta%20name%3D%22viewport%22%20content%3D%22width%3Ddevice-width%2C%0A%20%20%20%20%20%20%20%20%20%20%20%20%20%20%20%20initial-scale%3D1.0%2C%20maximum-scale%3D1.0%2C%20user-scalable%3Dno%22%20/%3E%0A%20%20%20%20%20%20%20%20%20%20%20%20%3Cstyle%3E%0A%20%20%20%20%20%20%20%20%20%20%20%20%20%20%20%20%23map_48b2f9c8d2c14eec846b5d1b88e2376b%20%7B%0A%20%20%20%20%20%20%20%20%20%20%20%20%20%20%20%20%20%20%20%20position%3A%20relative%3B%0A%20%20%20%20%20%20%20%20%20%20%20%20%20%20%20%20%20%20%20%20width%3A%20100.0%25%3B%0A%20%20%20%20%20%20%20%20%20%20%20%20%20%20%20%20%20%20%20%20height%3A%20100.0%25%3B%0A%20%20%20%20%20%20%20%20%20%20%20%20%20%20%20%20%20%20%20%20left%3A%200.0%25%3B%0A%20%20%20%20%20%20%20%20%20%20%20%20%20%20%20%20%20%20%20%20top%3A%200.0%25%3B%0A%20%20%20%20%20%20%20%20%20%20%20%20%20%20%20%20%7D%0A%20%20%20%20%20%20%20%20%20%20%20%20%3C/style%3E%0A%20%20%20%20%20%20%20%20%0A%3C/head%3E%0A%3Cbody%3E%20%20%20%20%0A%20%20%20%20%0A%20%20%20%20%20%20%20%20%20%20%20%20%3Cdiv%20class%3D%22folium-map%22%20id%3D%22map_48b2f9c8d2c14eec846b5d1b88e2376b%22%20%3E%3C/div%3E%0A%20%20%20%20%20%20%20%20%0A%3C/body%3E%0A%3Cscript%3E%20%20%20%20%0A%20%20%20%20%0A%20%20%20%20%20%20%20%20%20%20%20%20var%20map_48b2f9c8d2c14eec846b5d1b88e2376b%20%3D%20L.map%28%0A%20%20%20%20%20%20%20%20%20%20%20%20%20%20%20%20%22map_48b2f9c8d2c14eec846b5d1b88e2376b%22%2C%0A%20%20%20%20%20%20%20%20%20%20%20%20%20%20%20%20%7B%0A%20%20%20%20%20%20%20%20%20%20%20%20%20%20%20%20%20%20%20%20center%3A%20%5B0%2C%200%5D%2C%0A%20%20%20%20%20%20%20%20%20%20%20%20%20%20%20%20%20%20%20%20crs%3A%20L.CRS.EPSG3857%2C%0A%20%20%20%20%20%20%20%20%20%20%20%20%20%20%20%20%20%20%20%20zoom%3A%201%2C%0A%20%20%20%20%20%20%20%20%20%20%20%20%20%20%20%20%20%20%20%20zoomControl%3A%20true%2C%0A%20%20%20%20%20%20%20%20%20%20%20%20%20%20%20%20%20%20%20%20preferCanvas%3A%20false%2C%0A%20%20%20%20%20%20%20%20%20%20%20%20%20%20%20%20%7D%0A%20%20%20%20%20%20%20%20%20%20%20%20%29%3B%0A%0A%20%20%20%20%20%20%20%20%20%20%20%20%0A%0A%20%20%20%20%20%20%20%20%0A%20%20%20%20%0A%20%20%20%20%20%20%20%20%20%20%20%20var%20tile_layer_4f7b195c33f54b28889def79abcc6890%20%3D%20L.tileLayer%28%0A%20%20%20%20%20%20%20%20%20%20%20%20%20%20%20%20%22https%3A//%7Bs%7D.tile.openstreetmap.org/%7Bz%7D/%7Bx%7D/%7By%7D.png%22%2C%0A%20%20%20%20%20%20%20%20%20%20%20%20%20%20%20%20%7B%22attribution%22%3A%20%22Data%20by%20%5Cu0026copy%3B%20%5Cu003ca%20href%3D%5C%22http%3A//openstreetmap.org%5C%22%5Cu003eOpenStreetMap%5Cu003c/a%5Cu003e%2C%20under%20%5Cu003ca%20href%3D%5C%22http%3A//www.openstreetmap.org/copyright%5C%22%5Cu003eODbL%5Cu003c/a%5Cu003e.%22%2C%20%22detectRetina%22%3A%20false%2C%20%22maxNativeZoom%22%3A%2018%2C%20%22maxZoom%22%3A%2018%2C%20%22minZoom%22%3A%200%2C%20%22noWrap%22%3A%20false%2C%20%22opacity%22%3A%201%2C%20%22subdomains%22%3A%20%22abc%22%2C%20%22tms%22%3A%20false%7D%0A%20%20%20%20%20%20%20%20%20%20%20%20%29.addTo%28map_48b2f9c8d2c14eec846b5d1b88e2376b%29%3B%0A%20%20%20%20%20%20%20%20%0A%20%20%20%20%0A%20%20%20%20%20%20%20%20%20%20%20%20var%20feature_group_6a50a8d5e3654ed89b6c37ebda6a2ba2%20%3D%20L.featureGroup%28%0A%20%20%20%20%20%20%20%20%20%20%20%20%20%20%20%20%7B%7D%0A%20%20%20%20%20%20%20%20%20%20%20%20%29.addTo%28map_48b2f9c8d2c14eec846b5d1b88e2376b%29%3B%0A%20%20%20%20%20%20%20%20%0A%20%20%20%20%0A%20%20%20%20%20%20%20%20%20%20%20%20var%20marker_fd9ca2b6a44448ad94e33d0e5f77d34a%20%3D%20L.marker%28%0A%20%20%20%20%20%20%20%20%20%20%20%20%20%20%20%20%5B27.175%2C%2078.0422%5D%2C%0A%20%20%20%20%20%20%20%20%20%20%20%20%20%20%20%20%7B%7D%0A%20%20%20%20%20%20%20%20%20%20%20%20%29.addTo%28feature_group_6a50a8d5e3654ed89b6c37ebda6a2ba2%29%3B%0A%20%20%20%20%20%20%20%20%0A%20%20%20%20%0A%20%20%20%20%20%20%20%20%20%20%20%20var%20icon_73fff06ca9964c358f2bc14542c1df26%20%3D%20L.AwesomeMarkers.icon%28%0A%20%20%20%20%20%20%20%20%20%20%20%20%20%20%20%20%7B%22extraClasses%22%3A%20%22fa-rotate-0%22%2C%20%22icon%22%3A%20%22info-sign%22%2C%20%22iconColor%22%3A%20%22white%22%2C%20%22markerColor%22%3A%20%22red%22%2C%20%22prefix%22%3A%20%22glyphicon%22%7D%0A%20%20%20%20%20%20%20%20%20%20%20%20%29%3B%0A%20%20%20%20%20%20%20%20%20%20%20%20marker_fd9ca2b6a44448ad94e33d0e5f77d34a.setIcon%28icon_73fff06ca9964c358f2bc14542c1df26%29%3B%0A%20%20%20%20%20%20%20%20%0A%20%20%20%20%0A%20%20%20%20%20%20%20%20var%20popup_aa06444edb7f42e6aa86b06094e94a03%20%3D%20L.popup%28%7B%22maxWidth%22%3A%20%22100%25%22%7D%29%3B%0A%0A%20%20%20%20%20%20%20%20%0A%20%20%20%20%20%20%20%20%20%20%20%20var%20html_c3e85b074ad4400e90d64339e0d9483d%20%3D%20%24%28%60%3Cdiv%20id%3D%22html_c3e85b074ad4400e90d64339e0d9483d%22%20style%3D%22width%3A%20100.0%25%3B%20height%3A%20100.0%25%3B%22%3ETajmahal%3C/div%3E%60%29%5B0%5D%3B%0A%20%20%20%20%20%20%20%20%20%20%20%20popup_aa06444edb7f42e6aa86b06094e94a03.setContent%28html_c3e85b074ad4400e90d64339e0d9483d%29%3B%0A%20%20%20%20%20%20%20%20%0A%0A%20%20%20%20%20%20%20%20marker_fd9ca2b6a44448ad94e33d0e5f77d34a.bindPopup%28popup_aa06444edb7f42e6aa86b06094e94a03%29%0A%20%20%20%20%20%20%20%20%3B%0A%0A%20%20%20%20%20%20%20%20%0A%20%20%20%20%0A%20%20%20%20%0A%20%20%20%20%20%20%20%20%20%20%20%20var%20marker_57ef4cba7ab1458aa4f24145632aa0ff%20%3D%20L.marker%28%0A%20%20%20%20%20%20%20%20%20%20%20%20%20%20%20%20%5B34.0%2C%2053.0%5D%2C%0A%20%20%20%20%20%20%20%20%20%20%20%20%20%20%20%20%7B%7D%0A%20%20%20%20%20%20%20%20%20%20%20%20%29.addTo%28feature_group_6a50a8d5e3654ed89b6c37ebda6a2ba2%29%3B%0A%20%20%20%20%20%20%20%20%0A%20%20%20%20%0A%20%20%20%20%20%20%20%20%20%20%20%20var%20icon_9f9321a6c4344753807111aaa9c354cf%20%3D%20L.AwesomeMarkers.icon%28%0A%20%20%20%20%20%20%20%20%20%20%20%20%20%20%20%20%7B%22extraClasses%22%3A%20%22fa-rotate-0%22%2C%20%22icon%22%3A%20%22info-sign%22%2C%20%22iconColor%22%3A%20%22white%22%2C%20%22markerColor%22%3A%20%22red%22%2C%20%22prefix%22%3A%20%22glyphicon%22%7D%0A%20%20%20%20%20%20%20%20%20%20%20%20%29%3B%0A%20%20%20%20%20%20%20%20%20%20%20%20marker_57ef4cba7ab1458aa4f24145632aa0ff.setIcon%28icon_9f9321a6c4344753807111aaa9c354cf%29%3B%0A%20%20%20%20%20%20%20%20%0A%20%20%20%20%0A%20%20%20%20%20%20%20%20var%20popup_56a3352a07534615b6774bf4b48eaa98%20%3D%20L.popup%28%7B%22maxWidth%22%3A%20%22100%25%22%7D%29%3B%0A%0A%20%20%20%20%20%20%20%20%0A%20%20%20%20%20%20%20%20%20%20%20%20var%20html_95a229d032e7426ab96397052290b477%20%3D%20%24%28%60%3Cdiv%20id%3D%22html_95a229d032e7426ab96397052290b477%22%20style%3D%22width%3A%20100.0%25%3B%20height%3A%20100.0%25%3B%22%3ETajmahal%3C/div%3E%60%29%5B0%5D%3B%0A%20%20%20%20%20%20%20%20%20%20%20%20popup_56a3352a07534615b6774bf4b48eaa98.setContent%28html_95a229d032e7426ab96397052290b477%29%3B%0A%20%20%20%20%20%20%20%20%0A%0A%20%20%20%20%20%20%20%20marker_57ef4cba7ab1458aa4f24145632aa0ff.bindPopup%28popup_56a3352a07534615b6774bf4b48eaa98%29%0A%20%20%20%20%20%20%20%20%3B%0A%0A%20%20%20%20%20%20%20%20%0A%20%20%20%20%0A%20%20%20%20%0A%20%20%20%20%20%20%20%20%20%20%20%20var%20marker_e81b677f07264bd9ae46487025815041%20%3D%20L.marker%28%0A%20%20%20%20%20%20%20%20%20%20%20%20%20%20%20%20%5B24.0%2C%20-50.0%5D%2C%0A%20%20%20%20%20%20%20%20%20%20%20%20%20%20%20%20%7B%7D%0A%20%20%20%20%20%20%20%20%20%20%20%20%29.addTo%28feature_group_6a50a8d5e3654ed89b6c37ebda6a2ba2%29%3B%0A%20%20%20%20%20%20%20%20%0A%20%20%20%20%0A%20%20%20%20%20%20%20%20%20%20%20%20var%20icon_e95ee68de6c340eca5e58e8e4682aecf%20%3D%20L.AwesomeMarkers.icon%28%0A%20%20%20%20%20%20%20%20%20%20%20%20%20%20%20%20%7B%22extraClasses%22%3A%20%22fa-rotate-0%22%2C%20%22icon%22%3A%20%22info-sign%22%2C%20%22iconColor%22%3A%20%22white%22%2C%20%22markerColor%22%3A%20%22red%22%2C%20%22prefix%22%3A%20%22glyphicon%22%7D%0A%20%20%20%20%20%20%20%20%20%20%20%20%29%3B%0A%20%20%20%20%20%20%20%20%20%20%20%20marker_e81b677f07264bd9ae46487025815041.setIcon%28icon_e95ee68de6c340eca5e58e8e4682aecf%29%3B%0A%20%20%20%20%20%20%20%20%0A%20%20%20%20%0A%20%20%20%20%20%20%20%20var%20popup_09fa3b5d81e043f4aeeea1afc91adc25%20%3D%20L.popup%28%7B%22maxWidth%22%3A%20%22100%25%22%7D%29%3B%0A%0A%20%20%20%20%20%20%20%20%0A%20%20%20%20%20%20%20%20%20%20%20%20var%20html_a924743047b24abbaa1470a39ba4f088%20%3D%20%24%28%60%3Cdiv%20id%3D%22html_a924743047b24abbaa1470a39ba4f088%22%20style%3D%22width%3A%20100.0%25%3B%20height%3A%20100.0%25%3B%22%3ETajmahal%3C/div%3E%60%29%5B0%5D%3B%0A%20%20%20%20%20%20%20%20%20%20%20%20popup_09fa3b5d81e043f4aeeea1afc91adc25.setContent%28html_a924743047b24abbaa1470a39ba4f088%29%3B%0A%20%20%20%20%20%20%20%20%0A%0A%20%20%20%20%20%20%20%20marker_e81b677f07264bd9ae46487025815041.bindPopup%28popup_09fa3b5d81e043f4aeeea1afc91adc25%29%0A%20%20%20%20%20%20%20%20%3B%0A%0A%20%20%20%20%20%20%20%20%0A%20%20%20%20%0A%20%20%20%20%0A%20%20%20%20%20%20%20%20%20%20%20%20var%20marker_f303ba33fe1147488220fcfd01548686%20%3D%20L.marker%28%0A%20%20%20%20%20%20%20%20%20%20%20%20%20%20%20%20%5B90.0%2C%20-68.0%5D%2C%0A%20%20%20%20%20%20%20%20%20%20%20%20%20%20%20%20%7B%7D%0A%20%20%20%20%20%20%20%20%20%20%20%20%29.addTo%28feature_group_6a50a8d5e3654ed89b6c37ebda6a2ba2%29%3B%0A%20%20%20%20%20%20%20%20%0A%20%20%20%20%0A%20%20%20%20%20%20%20%20%20%20%20%20var%20icon_0fb5d11f67164f179651e9c8ca12a2bd%20%3D%20L.AwesomeMarkers.icon%28%0A%20%20%20%20%20%20%20%20%20%20%20%20%20%20%20%20%7B%22extraClasses%22%3A%20%22fa-rotate-0%22%2C%20%22icon%22%3A%20%22info-sign%22%2C%20%22iconColor%22%3A%20%22white%22%2C%20%22markerColor%22%3A%20%22red%22%2C%20%22prefix%22%3A%20%22glyphicon%22%7D%0A%20%20%20%20%20%20%20%20%20%20%20%20%29%3B%0A%20%20%20%20%20%20%20%20%20%20%20%20marker_f303ba33fe1147488220fcfd01548686.setIcon%28icon_0fb5d11f67164f179651e9c8ca12a2bd%29%3B%0A%20%20%20%20%20%20%20%20%0A%20%20%20%20%0A%20%20%20%20%20%20%20%20var%20popup_68ecd4c00e3b4b038da6d4c516dc2b78%20%3D%20L.popup%28%7B%22maxWidth%22%3A%20%22100%25%22%7D%29%3B%0A%0A%20%20%20%20%20%20%20%20%0A%20%20%20%20%20%20%20%20%20%20%20%20var%20html_d820be142fbc480bbbc96984d7311616%20%3D%20%24%28%60%3Cdiv%20id%3D%22html_d820be142fbc480bbbc96984d7311616%22%20style%3D%22width%3A%20100.0%25%3B%20height%3A%20100.0%25%3B%22%3ETajmahal%3C/div%3E%60%29%5B0%5D%3B%0A%20%20%20%20%20%20%20%20%20%20%20%20popup_68ecd4c00e3b4b038da6d4c516dc2b78.setContent%28html_d820be142fbc480bbbc96984d7311616%29%3B%0A%20%20%20%20%20%20%20%20%0A%0A%20%20%20%20%20%20%20%20marker_f303ba33fe1147488220fcfd01548686.bindPopup%28popup_68ecd4c00e3b4b038da6d4c516dc2b78%29%0A%20%20%20%20%20%20%20%20%3B%0A%0A%20%20%20%20%20%20%20%20%0A%20%20%20%20%0A%3C/script%3E onload=\"this.contentDocument.open();this.contentDocument.write(    decodeURIComponent(this.getAttribute('data-html')));this.contentDocument.close();\" allowfullscreen webkitallowfullscreen mozallowfullscreen></iframe></div></div>"
      ],
      "text/plain": [
       "<folium.folium.Map at 0x22849db1790>"
      ]
     },
     "execution_count": 3,
     "metadata": {},
     "output_type": "execute_result"
    }
   ],
   "source": [
    "for lat,lon in ([34,53],[24,-50],[90,-68]):\n",
    "        x.add_child(fo.Marker(location=[lat,lon],\n",
    "                     popup=\"Tajmahal\",icon=fo.Icon(color=\"red\")))\n",
    "map.add_child(x)"
   ]
  },
  {
   "cell_type": "markdown",
   "id": "762e5978",
   "metadata": {},
   "source": [
    "# PATTERNS BY AMUL'S ACADEMY\n"
   ]
  },
  {
   "cell_type": "code",
   "execution_count": 4,
   "id": "845e19b7",
   "metadata": {},
   "outputs": [
    {
     "name": "stdout",
     "output_type": "stream",
     "text": [
      "enter the no of rows:5\n",
      "* \n",
      "\n",
      "* * \n",
      "\n",
      "* * * \n",
      "\n",
      "* * * * \n",
      "\n",
      "* * * * * \n",
      "\n"
     ]
    }
   ],
   "source": [
    "n=int(input(\"enter the no of rows:\"))\n",
    "for i in range(1,n+1):\n",
    "    for j in range(1,i+1):\n",
    "        print(\"*\",end=\" \")\n",
    "    print(\"\\n\")"
   ]
  },
  {
   "cell_type": "code",
   "execution_count": 3,
   "id": "fe9dd3e4",
   "metadata": {},
   "outputs": [
    {
     "name": "stdout",
     "output_type": "stream",
     "text": [
      "enter the number:3\n",
      "* \n",
      "* * * \n",
      "* * * * * \n"
     ]
    }
   ],
   "source": [
    "num=int(input(\"enter the number:\"))\n",
    "k=1\n",
    "for i in range(1,num+1):\n",
    "    for j in range(1,k+1):\n",
    "        print(\"*\",end=\" \")\n",
    "    k=k+2\n",
    "    print()\n"
   ]
  },
  {
   "cell_type": "code",
   "execution_count": 5,
   "id": "1516e974",
   "metadata": {},
   "outputs": [
    {
     "name": "stdout",
     "output_type": "stream",
     "text": [
      "enter the number of rows5\n",
      "1 \n",
      "1 2 \n",
      "1 2 3 \n",
      "1 2 3 4 \n",
      "1 2 3 4 5 \n"
     ]
    }
   ],
   "source": [
    "n=int(input(\"enter the number of rows\"))\n",
    "for i in range(1,n+1):\n",
    "    for j in range(1,i+1):\n",
    "        print(j,end=\" \")\n",
    "    print()"
   ]
  },
  {
   "cell_type": "code",
   "execution_count": 9,
   "id": "c9167091",
   "metadata": {},
   "outputs": [
    {
     "name": "stdout",
     "output_type": "stream",
     "text": [
      "enter the number of rows:5\n",
      "1 \n",
      "2 2 \n",
      "3 3 3 \n",
      "4 4 4 4 \n",
      "5 5 5 5 5 \n"
     ]
    }
   ],
   "source": [
    "n=int(input(\"enter the number of rows:\"))\n",
    "for i in range(1,n+1):\n",
    "    for j in range(1,i+1):\n",
    "        print(i,end=\" \")\n",
    "    print()"
   ]
  },
  {
   "cell_type": "markdown",
   "id": "2dd7aa6d",
   "metadata": {},
   "source": [
    "# patterns by sundeep saradhi"
   ]
  },
  {
   "cell_type": "code",
   "execution_count": 7,
   "id": "e8ba36a6",
   "metadata": {},
   "outputs": [
    {
     "name": "stdout",
     "output_type": "stream",
     "text": [
      "* \n",
      "* * \n",
      "* * * \n",
      "* * * * \n",
      "* * * * * \n",
      "###############################################\n"
     ]
    }
   ],
   "source": [
    "for i in range(5):\n",
    "    for j in range(i+1):\n",
    "        print(\"*\",end =\" \")\n",
    "    print()\n",
    "print(\"###############################################\")"
   ]
  },
  {
   "cell_type": "code",
   "execution_count": 8,
   "id": "9823415c",
   "metadata": {},
   "outputs": [
    {
     "name": "stdout",
     "output_type": "stream",
     "text": [
      "* * * * * \n",
      "* * * * \n",
      "* * * \n",
      "* * \n",
      "* \n",
      "###############################################\n"
     ]
    }
   ],
   "source": [
    "for i in range(5,0,-1):\n",
    "    for j in range(i):\n",
    "        print(\"*\",end = \" \")\n",
    "    print()\n",
    "print(\"###############################################\")"
   ]
  },
  {
   "cell_type": "code",
   "execution_count": 9,
   "id": "024a2823",
   "metadata": {},
   "outputs": [
    {
     "name": "stdout",
     "output_type": "stream",
     "text": [
      "1 \n",
      "2 2 \n",
      "3 3 3 \n",
      "4 4 4 4 \n",
      "5 5 5 5 5 \n",
      "###############################################\n"
     ]
    }
   ],
   "source": [
    "for i in range(1,6):\n",
    "    for j in range(i):\n",
    "        print(i,end=\" \")\n",
    "    print()\n",
    "print(\"###############################################\")"
   ]
  },
  {
   "cell_type": "code",
   "execution_count": 10,
   "id": "7b73464a",
   "metadata": {},
   "outputs": [
    {
     "name": "stdout",
     "output_type": "stream",
     "text": [
      "5 5 5 5 5 \n",
      "4 4 4 4 \n",
      "3 3 3 \n",
      "2 2 \n",
      "1 \n",
      "###############################################\n"
     ]
    }
   ],
   "source": [
    "for i in range(5,0,-1):\n",
    "    for j in range(i):\n",
    "        print(i,end= \" \")\n",
    "    print()\n",
    "print(\"###############################################\")"
   ]
  },
  {
   "cell_type": "code",
   "execution_count": 11,
   "id": "2831207e",
   "metadata": {},
   "outputs": [
    {
     "name": "stdout",
     "output_type": "stream",
     "text": [
      "1 \n",
      "1 2 \n",
      "1 2 3 \n",
      "1 2 3 4 \n",
      "1 2 3 4 5 \n",
      "###############################################\n"
     ]
    }
   ],
   "source": [
    "for i in range(1,6):\n",
    "    for j in range(1,i+1):\n",
    "        print(j,end = \" \")\n",
    "    print()\n",
    "print(\"###############################################\")"
   ]
  },
  {
   "cell_type": "code",
   "execution_count": 12,
   "id": "f6ae40fb",
   "metadata": {},
   "outputs": [
    {
     "name": "stdout",
     "output_type": "stream",
     "text": [
      "1 2 3 4 5 \n",
      "1 2 3 4 \n",
      "1 2 3 \n",
      "1 2 \n",
      "1 \n",
      "###############################################\n"
     ]
    }
   ],
   "source": [
    "for i in range(5,0,-1):\n",
    "    for j in range(1,i+1):\n",
    "        print(j,end = \" \")\n",
    "    print()\n",
    "print(\"###############################################\")"
   ]
  },
  {
   "cell_type": "code",
   "execution_count": 13,
   "id": "9b9d1b11",
   "metadata": {},
   "outputs": [
    {
     "name": "stdout",
     "output_type": "stream",
     "text": [
      "1 \n",
      "2 1 \n",
      "3 2 1 \n",
      "4 3 2 1 \n",
      "5 4 3 2 1 \n",
      "###############################################\n"
     ]
    }
   ],
   "source": [
    "for i in range(1,6):\n",
    "    for j in range(i,0,-1):\n",
    "        print(j,end = \" \")\n",
    "    print()\n",
    "print(\"###############################################\")\n"
   ]
  },
  {
   "cell_type": "code",
   "execution_count": 14,
   "id": "50f6ce6e",
   "metadata": {},
   "outputs": [
    {
     "name": "stdout",
     "output_type": "stream",
     "text": [
      "6 5 4 3 2 1 \n",
      "5 4 3 2 1 \n",
      "4 3 2 1 \n",
      "3 2 1 \n",
      "2 1 \n",
      "1 \n",
      "###############################################\n"
     ]
    }
   ],
   "source": [
    "for i  in range(6,0,-1):\n",
    "    for j in range(i,0,-1):\n",
    "        print(j,end = \" \")\n",
    "    print()\n",
    "print(\"###############################################\")"
   ]
  },
  {
   "cell_type": "code",
   "execution_count": 15,
   "id": "a357cfcb",
   "metadata": {},
   "outputs": [
    {
     "name": "stdout",
     "output_type": "stream",
     "text": [
      "1 \n",
      "2 3 4 \n",
      "5 6 7 8 9 \n",
      "10 11 12 13 14 15 16 \n",
      "17 18 19 20 21 22 23 24 25 \n",
      "###############################################\n"
     ]
    }
   ],
   "source": [
    "col = 1\n",
    "n = 1\n",
    "for i in range(1,6):\n",
    "    for j in range(1,col+1):\n",
    "        print(n,end =\" \")\n",
    "        n = n+1\n",
    "    col =col+2\n",
    "    print()\n",
    "print(\"###############################################\")"
   ]
  },
  {
   "cell_type": "code",
   "execution_count": 1,
   "id": "53313198",
   "metadata": {},
   "outputs": [
    {
     "name": "stdout",
     "output_type": "stream",
     "text": [
      "        * \n",
      "      * * \n",
      "    * * * \n",
      "  * * * * \n",
      "* * * * * \n"
     ]
    }
   ],
   "source": [
    "for i in range(1,6):\n",
    "    for j in range(5,i,-1):\n",
    "        print(\" \",end = \" \")\n",
    "    for k in range(1,i+1):\n",
    "        print(\"*\",end = \" \")\n",
    "    print()"
   ]
  },
  {
   "cell_type": "code",
   "execution_count": 2,
   "id": "f1bff058",
   "metadata": {},
   "outputs": [
    {
     "name": "stdout",
     "output_type": "stream",
     "text": [
      "* * * * * \n",
      "  * * * * \n",
      "    * * * \n",
      "      * * \n",
      "        * \n"
     ]
    }
   ],
   "source": [
    "for i in range(5,0,-1):\n",
    "    for j in range(5,i,-1):\n",
    "        print(\" \",end = \" \")\n",
    "    for k in range(1,i+1):\n",
    "        print(\"*\",end = \" \")\n",
    "    print()"
   ]
  },
  {
   "cell_type": "code",
   "execution_count": 3,
   "id": "50688533",
   "metadata": {},
   "outputs": [
    {
     "name": "stdout",
     "output_type": "stream",
     "text": [
      "        1 \n",
      "      1 2 \n",
      "    1 2 3 \n",
      "  1 2 3 4 \n",
      "1 2 3 4 5 \n"
     ]
    }
   ],
   "source": [
    "for i in range(1,6):\n",
    "    for j in range(5,i,-1):\n",
    "        print(\" \",end = \" \")\n",
    "    for k in range(1,i+1):\n",
    "        print(k,end = \" \")\n",
    "    print()"
   ]
  },
  {
   "cell_type": "code",
   "execution_count": 4,
   "id": "8d3cc30f",
   "metadata": {},
   "outputs": [
    {
     "name": "stdout",
     "output_type": "stream",
     "text": [
      "1 2 3 4 5 \n",
      "  1 2 3 4 \n",
      "    1 2 3 \n",
      "      1 2 \n",
      "        1 \n"
     ]
    }
   ],
   "source": [
    "for i in range(5,0,-1):\n",
    "    for j in range(5,i,-1):\n",
    "        print(\" \",end = \" \")\n",
    "    for k in range(1,i+1):\n",
    "        print(k,end = \" \")\n",
    "    print( )"
   ]
  },
  {
   "cell_type": "code",
   "execution_count": 5,
   "id": "b94d4e30",
   "metadata": {},
   "outputs": [
    {
     "name": "stdout",
     "output_type": "stream",
     "text": [
      "        1 \n",
      "      2 2 \n",
      "    3 3 3 \n",
      "  4 4 4 4 \n",
      "5 5 5 5 5 \n"
     ]
    }
   ],
   "source": [
    "for i in range(1,6):\n",
    "    for j in range(5,i,-1):\n",
    "        print(\" \",end = \" \")\n",
    "    for k in range(1,i+1):\n",
    "        print(i,end = ' ')\n",
    "    print()"
   ]
  },
  {
   "cell_type": "code",
   "execution_count": 6,
   "id": "a3ac2432",
   "metadata": {},
   "outputs": [
    {
     "name": "stdout",
     "output_type": "stream",
     "text": [
      "5 5 5 5 5 \n",
      "  4 4 4 4 \n",
      "    3 3 3 \n",
      "      2 2 \n",
      "        1 \n"
     ]
    }
   ],
   "source": [
    "for i in range(5,0,-1):\n",
    "    for j in range(5,i,-1):\n",
    "        print(\" \",end = ' ')\n",
    "    for k in range(1,i+1):\n",
    "        print(i,end  = \" \")\n",
    "    print()"
   ]
  },
  {
   "cell_type": "code",
   "execution_count": 1,
   "id": "0f132900",
   "metadata": {},
   "outputs": [
    {
     "name": "stdout",
     "output_type": "stream",
     "text": [
      "Requirement already satisfied: opencv-python in c:\\users\\tharun\\downloads\\fda\\myenv\\lib\\site-packages (4.5.5.62)\n",
      "Requirement already satisfied: numpy>=1.17.3; python_version >= \"3.8\" in c:\\users\\tharun\\downloads\\fda\\myenv\\lib\\site-packages (from opencv-python) (1.19.5)\n"
     ]
    },
    {
     "name": "stderr",
     "output_type": "stream",
     "text": [
      "WARNING: You are using pip version 20.2.3; however, version 22.0.4 is available.\n",
      "You should consider upgrading via the 'c:\\users\\tharun\\downloads\\fda\\myenv\\scripts\\python.exe -m pip install --upgrade pip' command.\n"
     ]
    }
   ],
   "source": [
    "!pip install opencv-python"
   ]
  },
  {
   "cell_type": "code",
   "execution_count": 2,
   "id": "460c97a6",
   "metadata": {},
   "outputs": [
    {
     "name": "stdout",
     "output_type": "stream",
     "text": [
      "Requirement already satisfied: keras in c:\\users\\tharun\\downloads\\fda\\myenv\\lib\\site-packages (2.8.0)\n"
     ]
    },
    {
     "name": "stderr",
     "output_type": "stream",
     "text": [
      "WARNING: You are using pip version 20.2.3; however, version 22.0.4 is available.\n",
      "You should consider upgrading via the 'c:\\users\\tharun\\downloads\\fda\\myenv\\scripts\\python.exe -m pip install --upgrade pip' command.\n"
     ]
    }
   ],
   "source": [
    "!pip install keras"
   ]
  },
  {
   "cell_type": "code",
   "execution_count": 2,
   "id": "871dde1a",
   "metadata": {
    "scrolled": true
   },
   "outputs": [
    {
     "ename": "NameError",
     "evalue": "name 'model' is not defined",
     "output_type": "error",
     "traceback": [
      "\u001b[1;31m---------------------------------------------------------------------------\u001b[0m",
      "\u001b[1;31mNameError\u001b[0m                                 Traceback (most recent call last)",
      "\u001b[1;32m<ipython-input-2-88b07070fbef>\u001b[0m in \u001b[0;36m<module>\u001b[1;34m\u001b[0m\n\u001b[0;32m      8\u001b[0m \u001b[0mimg\u001b[0m \u001b[1;33m=\u001b[0m \u001b[0mcv2\u001b[0m\u001b[1;33m.\u001b[0m\u001b[0mresize\u001b[0m\u001b[1;33m(\u001b[0m\u001b[0mimg\u001b[0m\u001b[1;33m,\u001b[0m\u001b[1;33m(\u001b[0m\u001b[1;36m64\u001b[0m\u001b[1;33m,\u001b[0m\u001b[1;36m64\u001b[0m\u001b[1;33m)\u001b[0m\u001b[1;33m)\u001b[0m\u001b[1;33m\u001b[0m\u001b[1;33m\u001b[0m\u001b[0m\n\u001b[0;32m      9\u001b[0m \u001b[0mimg\u001b[0m \u001b[1;33m=\u001b[0m \u001b[0mnp\u001b[0m\u001b[1;33m.\u001b[0m\u001b[0mreshape\u001b[0m\u001b[1;33m(\u001b[0m\u001b[0mimg\u001b[0m\u001b[1;33m,\u001b[0m\u001b[1;33m[\u001b[0m\u001b[1;36m1\u001b[0m\u001b[1;33m,\u001b[0m\u001b[1;36m64\u001b[0m\u001b[1;33m,\u001b[0m\u001b[1;36m64\u001b[0m\u001b[1;33m,\u001b[0m\u001b[1;36m1\u001b[0m\u001b[1;33m]\u001b[0m\u001b[1;33m)\u001b[0m\u001b[1;33m\u001b[0m\u001b[1;33m\u001b[0m\u001b[0m\n\u001b[1;32m---> 10\u001b[1;33m \u001b[0ma\u001b[0m \u001b[1;33m=\u001b[0m \u001b[0mmodel\u001b[0m\u001b[1;33m.\u001b[0m\u001b[0mpredict\u001b[0m\u001b[1;33m(\u001b[0m\u001b[0mimg\u001b[0m\u001b[1;33m)\u001b[0m\u001b[1;33m\u001b[0m\u001b[1;33m\u001b[0m\u001b[0m\n\u001b[0m\u001b[0;32m     11\u001b[0m \u001b[0mprint\u001b[0m\u001b[1;33m(\u001b[0m\u001b[1;34m\"your prediction is:\"\u001b[0m\u001b[1;33m)\u001b[0m\u001b[1;33m\u001b[0m\u001b[1;33m\u001b[0m\u001b[0m\n\u001b[0;32m     12\u001b[0m \u001b[1;32mif\u001b[0m \u001b[0ma\u001b[0m\u001b[1;33m[\u001b[0m\u001b[1;36m0\u001b[0m\u001b[1;33m]\u001b[0m\u001b[1;33m[\u001b[0m\u001b[1;36m1\u001b[0m\u001b[1;33m]\u001b[0m\u001b[1;33m>\u001b[0m\u001b[0ma\u001b[0m\u001b[1;33m[\u001b[0m\u001b[1;36m0\u001b[0m\u001b[1;33m]\u001b[0m\u001b[1;33m[\u001b[0m\u001b[1;36m0\u001b[0m\u001b[1;33m]\u001b[0m\u001b[1;33m:\u001b[0m\u001b[1;33m\u001b[0m\u001b[1;33m\u001b[0m\u001b[0m\n",
      "\u001b[1;31mNameError\u001b[0m: name 'model' is not defined"
     ]
    }
   ],
   "source": [
    "import cv2\n",
    "import numpy as np\n",
    "import matplotlib.pyplot as plt\n",
    "img = cv2.imread(\"C:\\\\Users\\\\THARUN\\\\OneDrive\\\\Pictures\\\\Screenshots\\\\photo.jpg\")\n",
    "imgg = cv2.cvtColor(img,cv2.COLOR_BGR2RGB)\n",
    "img = cv2.cvtColor(img,cv2.COLOR_BGR2GRAY)\n",
    "img = img/225\n",
    "img = cv2.resize(img,(64,64))\n",
    "img = np.reshape(img,[1,64,64,1])\n",
    "a = model.predict(img)\n",
    "print(\"your prediction is:\")\n",
    "if a[0][1]>a[0][0]:\n",
    "    print(\"Your gender is male\")\n",
    "elif a[0][0]>a[0][1]:\n",
    "    print(\"your gender is female\")\n",
    "plt.imshow(imgg)\n",
    "plt.show()"
   ]
  },
  {
   "cell_type": "code",
   "execution_count": 8,
   "id": "cd0bcf29",
   "metadata": {},
   "outputs": [
    {
     "name": "stderr",
     "output_type": "stream",
     "text": [
      "ERROR: Could not find a version that satisfies the requirement tkinter (from versions: none)\n",
      "ERROR: No matching distribution found for tkinter\n",
      "WARNING: You are using pip version 20.2.3; however, version 22.0.4 is available.\n",
      "You should consider upgrading via the 'c:\\users\\tharun\\downloads\\fda\\myenv\\scripts\\python.exe -m pip install --upgrade pip' command.\n"
     ]
    }
   ],
   "source": [
    "!pip install tkinter"
   ]
  },
  {
   "cell_type": "markdown",
   "id": "c3bffa75",
   "metadata": {},
   "source": [
    "# FILE EXPLORER USING PYTHON"
   ]
  },
  {
   "cell_type": "code",
   "execution_count": 1,
   "id": "58f8e042",
   "metadata": {},
   "outputs": [],
   "source": [
    "from tkinter import *\n",
    "from tkinter import filedialog as fd\n",
    "def browseFiles():\n",
    "    filename = fd.askopenfilename(initialdir = \"/\",title = \"Select a file\",\n",
    "                                 filetypes = ((\"Text files\",\"*.txt.*\"),(\"all files\",\"*.*\")))\n",
    "    label_file_explorer.configure(text = \"File opened:\"+filename)\n",
    "window = Tk()\n",
    "window.title(\"                        **************File Explorer*****************                \")\n",
    "window.geometry(\"500x500\")\n",
    "window.config(background = \"Black\")\n",
    "label_file_explorer = Label(window,text = \"File Explorer using Tkinter\",width = 100,height = 4,fg = \"red\")\n",
    "button_explore = Button(window,text = \"Browse Files\",command = browseFiles)\n",
    "button_exit = Button(window,text = \"Exit\",command = exit)\n",
    "label_file_explorer.grid(column =1,row = 1)\n",
    "button_explore.grid(column = 1,row =2)\n",
    "button_exit.grid(column = 1,row = 3)\n",
    "window.mainloop()"
   ]
  },
  {
   "cell_type": "markdown",
   "id": "563f3a9a",
   "metadata": {},
   "source": [
    "# QR CODE"
   ]
  },
  {
   "cell_type": "code",
   "execution_count": 1,
   "id": "3140a7c5",
   "metadata": {},
   "outputs": [
    {
     "name": "stdout",
     "output_type": "stream",
     "text": [
      "Collecting qrcode\n",
      "  Downloading qrcode-7.3.1.tar.gz (43 kB)\n",
      "Requirement already satisfied: colorama in c:\\users\\tharun\\downloads\\fda\\myenv\\lib\\site-packages (from qrcode) (0.4.4)\n",
      "Using legacy 'setup.py install' for qrcode, since package 'wheel' is not installed.\n",
      "Installing collected packages: qrcode\n",
      "    Running setup.py install for qrcode: started\n",
      "    Running setup.py install for qrcode: finished with status 'done'\n",
      "Successfully installed qrcode-7.3.1\n"
     ]
    },
    {
     "name": "stderr",
     "output_type": "stream",
     "text": [
      "WARNING: You are using pip version 20.2.3; however, version 22.0.4 is available.\n",
      "You should consider upgrading via the 'c:\\users\\tharun\\downloads\\fda\\myenv\\scripts\\python.exe -m pip install --upgrade pip' command.\n"
     ]
    }
   ],
   "source": [
    "!pip install qrcode"
   ]
  },
  {
   "cell_type": "code",
   "execution_count": 8,
   "id": "fae7ebcb",
   "metadata": {},
   "outputs": [],
   "source": [
    "import qrcode as qr\n",
    "img = qr.make(\"https://www.youtube.com/watch?v=Qhn8cpimGp0\")\n",
    "img.save(\"C:\\\\Users\\\\THARUN\\\\OneDrive\\\\Desktop\\\\QR CODE.jpg\")"
   ]
  },
  {
   "cell_type": "code",
   "execution_count": 9,
   "id": "2b7f850c",
   "metadata": {},
   "outputs": [],
   "source": [
    "img = qr.make(\"I LOVE PYTHON\")\n",
    "img.save(\"C:\\\\Users\\\\THARUN\\\\OneDrive\\\\Desktop\\\\PYTHON.jpg\")"
   ]
  },
  {
   "cell_type": "code",
   "execution_count": 10,
   "id": "4fa69e6a",
   "metadata": {},
   "outputs": [
    {
     "name": "stdout",
     "output_type": "stream",
     "text": [
      "I LOVE PYTHON\n"
     ]
    }
   ],
   "source": [
    "import cv2\n",
    "d = cv2.QRCodeDetector()\n",
    "val,points,straight_code = d.detectAndDecode(cv2.imread(\"C:\\\\Users\\\\THARUN\\\\OneDrive\\\\Desktop\\\\PYTHON.jpg\"))\n",
    "print(val)"
   ]
  },
  {
   "cell_type": "markdown",
   "id": "8640eeb5",
   "metadata": {},
   "source": [
    "# Download youtube video"
   ]
  },
  {
   "cell_type": "code",
   "execution_count": 3,
   "id": "34f6fea1",
   "metadata": {},
   "outputs": [
    {
     "name": "stdout",
     "output_type": "stream",
     "text": [
      "Collecting pytube\n",
      "  Downloading pytube-12.0.0-py3-none-any.whl (56 kB)\n",
      "Installing collected packages: pytube\n",
      "Successfully installed pytube-12.0.0\n"
     ]
    },
    {
     "name": "stderr",
     "output_type": "stream",
     "text": [
      "WARNING: You are using pip version 20.2.3; however, version 22.0.4 is available.\n",
      "You should consider upgrading via the 'c:\\users\\tharun\\downloads\\fda\\myenv\\scripts\\python.exe -m pip install --upgrade pip' command.\n"
     ]
    }
   ],
   "source": [
    "!pip install pytube"
   ]
  },
  {
   "cell_type": "code",
   "execution_count": 4,
   "id": "a6e3eff2",
   "metadata": {},
   "outputs": [
    {
     "data": {
      "text/plain": [
       "'C:\\\\Users\\\\THARUN\\\\Downloads\\\\FDA\\\\myenv\\\\Scripts\\\\RRR Trailer (Telugu) - NTR Ram Charan Ajay Devgn Alia Bhatt  SS Rajamouli  25th March 2022.mp4'"
      ]
     },
     "execution_count": 4,
     "metadata": {},
     "output_type": "execute_result"
    }
   ],
   "source": [
    " from pytube import YouTube\n",
    "YouTube('https://www.youtube.com/watch?v=NgBoMJy386M').streams.first().download()\n",
    "yt = YouTube('https://www.youtube.com/watch?v=NgBoMJy386M')\n",
    "yt.streams.filter(progressive=True, file_extension='mp4').order_by('resolution').desc().first().download()"
   ]
  },
  {
   "cell_type": "markdown",
   "id": "e37b2790",
   "metadata": {},
   "source": [
    "# Netflix logo creation  by python"
   ]
  },
  {
   "cell_type": "code",
   "execution_count": 1,
   "id": "d0097cd4",
   "metadata": {},
   "outputs": [],
   "source": [
    "from turtle import *\n",
    "bgcolor('black')\n",
    "right(90)\n",
    "pos = [(-40,0),(40,0)]\n",
    "for x,y in pos:\n",
    "    up()\n",
    "    goto(x,y)\n",
    "    down()\n",
    "    fillcolor('red')\n",
    "    begin_fill()\n",
    "    for i in range(2):\n",
    "        forward(200)\n",
    "        left(90)\n",
    "        forward(40)\n",
    "        left(90)\n",
    "    end_fill()\n",
    "up()\n",
    "goto(-40,0)\n",
    "down()\n",
    "left(22)\n",
    "begin_fill()\n",
    "for i in range(2):\n",
    "        forward(217)\n",
    "        left(68)\n",
    "        forward(40)\n",
    "        left(112)\n",
    "end_fill()"
   ]
  },
  {
   "cell_type": "markdown",
   "id": "a813b3f8",
   "metadata": {},
   "source": [
    "# Python shapes"
   ]
  },
  {
   "cell_type": "code",
   "execution_count": 3,
   "id": "1a8c9b9a",
   "metadata": {},
   "outputs": [],
   "source": [
    "from turtle import *\n",
    "bgcolor('black')\n",
    "speed(0)\n",
    "hideturtle()\n",
    "for i in range(120):\n",
    "    color('red')\n",
    "    circle(i)\n",
    "    color('orange')\n",
    "    circle(i*0.8)\n",
    "    right(3)\n",
    "    forward(3)\n",
    "    \n",
    "done()"
   ]
  },
  {
   "cell_type": "code",
   "execution_count": null,
   "id": "cb26e92c",
   "metadata": {},
   "outputs": [],
   "source": [
    "from turtle import *\n",
    "bgcolor('white')\n",
    "speed(0)\n",
    "hideturtle()\n",
    "for i in range(120):\n",
    "    color('green')\n",
    "    circle(i)\n",
    "    color('orange')\n",
    "    circle(i*0.8)\n",
    "    right(3)\n",
    "    forward(3)\n",
    "    \n",
    "done()"
   ]
  },
  {
   "cell_type": "code",
   "execution_count": 1,
   "id": "2b883755",
   "metadata": {},
   "outputs": [],
   "source": [
    "import turtle                            # spiral shape\n",
    "screen = turtle.Screen()\n",
    "screen.setup(300,400,startx= 0 ,starty = 100)\n",
    "squary = turtle.Turtle()\n",
    "squary.speed(100)\n",
    "\n",
    "for i in range(400):\n",
    "    squary.forward(i)\n",
    "    squary.right(91)\n",
    "    \n",
    "    \n",
    "    squary.color(\"blue\")\n",
    "    screen.bgcolor(\"pink\")\n",
    "    \n",
    "    \n",
    "turtle.done()"
   ]
  },
  {
   "cell_type": "code",
   "execution_count": 1,
   "id": "f6cf9153",
   "metadata": {},
   "outputs": [],
   "source": [
    "import turtle                            # circle spirograph\n",
    "turtle.bgcolor(\"black\")\n",
    "turtle.pensize(2)\n",
    "turtle.speed(0)\n",
    "\n",
    "for i in range(6):\n",
    "    for colours in [\"red\",\"magenta\",\"blue\",\"cyan\",\"green\",\"yellow\",\"white\"]:\n",
    "        turtle.color(colours)\n",
    "        turtle.circle(100)\n",
    "        turtle.left(10)\n",
    "        \n",
    "turtle.hideturtle()\n",
    "        \n",
    "    "
   ]
  },
  {
   "cell_type": "code",
   "execution_count": 1,
   "id": "8d9964af",
   "metadata": {},
   "outputs": [],
   "source": [
    "import turtle                            # circle spirograph\n",
    "turtle.bgcolor(\"red\")\n",
    "turtle.pensize(2)\n",
    "turtle.speed(0)\n",
    "\n",
    "for i in range(6):\n",
    "    for colours in [\"red\",\"magenta\",\"blue\",\"cyan\",\"green\",\"yellow\",\"white\"]:\n",
    "        turtle.color(colours)\n",
    "        turtle.circle(100)\n",
    "        turtle.left(10)\n",
    "        \n",
    "turtle.hideturtle()\n",
    "        \n",
    "    "
   ]
  },
  {
   "cell_type": "code",
   "execution_count": 1,
   "id": "f0ef72c4",
   "metadata": {},
   "outputs": [],
   "source": [
    "import turtle           # square animation\n",
    "turtle.speed(0)\n",
    "turtle.bgcolor('black')\n",
    "turtle.color('cyan')\n",
    "\n",
    "def square(x):\n",
    "    turtle.forward(x)\n",
    "    for i in range(3):\n",
    "        turtle.left(90)\n",
    "        turtle.forward(x)\n",
    "    turtle.left(90)\n",
    "    \n",
    "def pattern1():\n",
    "    for i in range(130):\n",
    "        square(145)\n",
    "        turtle.left(177)\n",
    "        \n",
    "pattern1()"
   ]
  },
  {
   "cell_type": "markdown",
   "id": "28d65c1a",
   "metadata": {},
   "source": [
    "# password generation using python"
   ]
  },
  {
   "cell_type": "code",
   "execution_count": 1,
   "id": "2698d10e",
   "metadata": {},
   "outputs": [
    {
     "name": "stdout",
     "output_type": "stream",
     "text": [
      "The password you generated is : rWwNRpJMs\n"
     ]
    }
   ],
   "source": [
    "import random\n",
    "lower = \"abcdefghijklmnopqrstuvwxyz\"\n",
    "upper = \"ABCDEFGHIJKLMNOPQRSTUVWXYZ\"\n",
    "NUMBER = \"123456789\"\n",
    "symbol = \"[]{}#@*;._\"\n",
    "all = lower+ upper + NUMBER + symbol \n",
    "length = 9\n",
    "password = \"\".join(random.sample(all,length))\n",
    "print(\"The password you generated is :\",password)"
   ]
  },
  {
   "cell_type": "markdown",
   "id": "7d2ef707",
   "metadata": {},
   "source": [
    "# English Dictionary in python"
   ]
  },
  {
   "cell_type": "code",
   "execution_count": 2,
   "id": "60abe6e7",
   "metadata": {},
   "outputs": [
    {
     "name": "stdout",
     "output_type": "stream",
     "text": [
      "Collecting PyDictionary\n",
      "  Downloading PyDictionary-2.0.1-py3-none-any.whl (6.1 kB)\n",
      "Collecting click\n",
      "  Downloading click-8.1.2-py3-none-any.whl (96 kB)\n",
      "Collecting goslate\n",
      "  Downloading goslate-1.5.2.tar.gz (16 kB)\n",
      "Requirement already satisfied: requests in c:\\users\\tharun\\downloads\\fda\\myenv\\lib\\site-packages (from PyDictionary) (2.25.1)\n",
      "Collecting bs4\n",
      "  Downloading bs4-0.0.1.tar.gz (1.1 kB)\n",
      "Requirement already satisfied: colorama; platform_system == \"Windows\" in c:\\users\\tharun\\downloads\\fda\\myenv\\lib\\site-packages (from click->PyDictionary) (0.4.4)\n",
      "Collecting futures\n",
      "  Downloading futures-3.0.5.tar.gz (25 kB)\n",
      "Requirement already satisfied: chardet<5,>=3.0.2 in c:\\users\\tharun\\downloads\\fda\\myenv\\lib\\site-packages (from requests->PyDictionary) (4.0.0)\n",
      "Requirement already satisfied: idna<3,>=2.5 in c:\\users\\tharun\\downloads\\fda\\myenv\\lib\\site-packages (from requests->PyDictionary) (2.10)\n",
      "Requirement already satisfied: certifi>=2017.4.17 in c:\\users\\tharun\\downloads\\fda\\myenv\\lib\\site-packages (from requests->PyDictionary) (2021.5.30)\n",
      "Requirement already satisfied: urllib3<1.27,>=1.21.1 in c:\\users\\tharun\\downloads\\fda\\myenv\\lib\\site-packages (from requests->PyDictionary) (1.26.5)\n",
      "Requirement already satisfied: beautifulsoup4 in c:\\users\\tharun\\downloads\\fda\\myenv\\lib\\site-packages (from bs4->PyDictionary) (4.9.3)\n",
      "Requirement already satisfied: soupsieve>1.2; python_version >= \"3.0\" in c:\\users\\tharun\\downloads\\fda\\myenv\\lib\\site-packages (from beautifulsoup4->bs4->PyDictionary) (2.2.1)\n",
      "Building wheels for collected packages: goslate, bs4, futures\n",
      "  Building wheel for goslate (setup.py): started\n",
      "  Building wheel for goslate (setup.py): finished with status 'done'\n",
      "  Created wheel for goslate: filename=goslate-1.5.2-py3-none-any.whl size=11404 sha256=fde67c8c56a4e768fae75ea9a11ab522d0e5456c82adde06813b04eff4307fdd\n",
      "  Stored in directory: c:\\users\\tharun\\appdata\\local\\pip\\cache\\wheels\\5f\\a5\\62\\dd66fa77b5832a793e643eaa7da5866964c59eae1bd9007c54\n",
      "  Building wheel for bs4 (setup.py): started\n",
      "  Building wheel for bs4 (setup.py): finished with status 'done'\n",
      "  Created wheel for bs4: filename=bs4-0.0.1-py3-none-any.whl size=1273 sha256=64a105eca38c54475f2be92a7953e6e8ec30b392ae9aac8a817e6bb766c616a6\n",
      "  Stored in directory: c:\\users\\tharun\\appdata\\local\\pip\\cache\\wheels\\73\\2b\\cb\\099980278a0c9a3e57ff1a89875ec07bfa0b6fcbebb9a8cad3\n",
      "  Building wheel for futures (setup.py): started\n",
      "  Building wheel for futures (setup.py): finished with status 'done'\n",
      "  Created wheel for futures: filename=futures-3.0.5-py3-none-any.whl size=14078 sha256=3c4d4d0a09601e0668224dcbec93aa8ff95f9275d115c001960b7f6c025423af\n",
      "  Stored in directory: c:\\users\\tharun\\appdata\\local\\pip\\cache\\wheels\\8a\\4a\\78\\55bd408a487ca924f2053502beebf28862be93f14a1ba0a45c\n",
      "Successfully built goslate bs4 futures\n",
      "Installing collected packages: click, futures, goslate, bs4, PyDictionary\n",
      "Successfully installed PyDictionary-2.0.1 bs4-0.0.1 click-8.1.2 futures-3.0.5 goslate-1.5.2\n"
     ]
    },
    {
     "name": "stderr",
     "output_type": "stream",
     "text": [
      "WARNING: You are using pip version 20.2.3; however, version 22.0.4 is available.\n",
      "You should consider upgrading via the 'c:\\users\\tharun\\downloads\\fda\\myenv\\scripts\\python.exe -m pip install --upgrade pip' command.\n"
     ]
    }
   ],
   "source": [
    "!pip install PyDictionary"
   ]
  },
  {
   "cell_type": "code",
   "execution_count": 3,
   "id": "957c0608",
   "metadata": {},
   "outputs": [
    {
     "name": "stdout",
     "output_type": "stream",
     "text": [
      "{'Noun': ['benefit', 'moral excellence or admirableness', 'that which is pleasing or valuable or useful', 'articles of commerce'], 'Adjective': ['having desirable or positive qualities especially those suitable for a thing specified', 'having the normally expected amount', 'morally admirable', 'deserving of esteem and respect', 'promoting or enhancing well-being', 'agreeable or pleasing', 'of moral excellence', 'having or showing knowledge and skill and aptitude', 'thorough', 'with or in a close or intimate relationship', 'financially safe', 'most suitable or right for a particular purpose', 'resulting favorably', 'exerting force or influence', 'or in force', 'capable of pleasing', 'appealing to the mind', 'in excellent physical condition', 'tending to promote physical well-being; beneficial to health', 'not forged', 'not left to spoil', 'generally admired'], 'Adverb': ['(often used as a combining form', \"`good' is a nonstandard dialectal variant for `well'\", \"completely and absolutely (`good' is sometimes used informally for `thoroughly'\"]}\n"
     ]
    }
   ],
   "source": [
    "from PyDictionary import PyDictionary\n",
    "\n",
    "# creating object\n",
    "x = PyDictionary()\n",
    "\n",
    "# Displaying the meaning\n",
    "print(x.meaning(\"good\"))"
   ]
  },
  {
   "cell_type": "markdown",
   "id": "1631c8ff",
   "metadata": {},
   "source": [
    "# Tesla Car Logo using python"
   ]
  },
  {
   "cell_type": "code",
   "execution_count": 1,
   "id": "fbc2e327",
   "metadata": {},
   "outputs": [],
   "source": [
    "import turtle\n",
    "\n",
    "t = turtle.Turtle()\n",
    "\n",
    "t.getscreen().bgcolor(\"#FEFBF6\")\n",
    "t.pencolor(\"black\")\n",
    "t.speed(4)\n",
    "\n",
    "t.color(\"#E82127\")\n",
    "t.penup()\n",
    "t.goto(-160,160)\n",
    "t.pendown()\n",
    "\n",
    "t.begin_fill()\n",
    "t.left(18)\n",
    "t.circle(-500,40)\n",
    "t.right(90)\n",
    "t.forward(17)\n",
    "\n",
    "t.right(89.5)\n",
    "t.circle(500,39)\n",
    "t.right(90)\n",
    "t.forward(17)\n",
    "t.end_fill()\n",
    "\n",
    "t.penup()\n",
    "t.goto(-155,133)\n",
    "t.pendown()\n",
    "\n",
    "t.begin_fill()\n",
    "t.right(90.5)\n",
    "t.circle(-500,38)\n",
    "t.right(70)\n",
    "t.circle(-30,80)\n",
    "t.left(90)\n",
    "t.circle(-20,-70)\n",
    "t.right(10)\n",
    "t.circle(-300,-15)\n",
    "t.right(93)\n",
    "t.forward(280)\n",
    "t.right(160)\n",
    "t.forward(280)\n",
    "t.left(80)\n",
    "t.circle(300,15) ## 44\n",
    "t.circle(20,70)\n",
    "t.left(80)\n",
    "t.circle(30,-80)\n",
    "t.end_fill()\n",
    "\n",
    "t.penup()\n",
    "t.goto(-20,155)\n",
    "t.pendown()\n",
    "t.pencolor(\"black\")\n",
    "t.color(\"#FEFBF6\")\n",
    "t.begin_fill()\n",
    "t.left(30)\n",
    "t.forward(60)\n",
    "t.left(130)\n",
    "t.forward(65)\n",
    "t.end_fill()\n",
    "\n",
    "# T letter\n",
    "t.pencolor(\"#E82127\")\n",
    "t.penup()\n",
    "t.goto(-200,-180)\n",
    "t.pendown()\n",
    "t.right(66)\n",
    "\n",
    "\n",
    "t.pensize(15)\n",
    "t.forward(60)\n",
    "t.back(30)\n",
    "t.right(90)\n",
    "t.forward(70)\n",
    "\n",
    "#E letter\n",
    "t.penup()\n",
    "t.goto(-115,-180)\n",
    "t.pendown()\n",
    "t.left(90)\n",
    "t.forward(60)\n",
    "t.penup()\n",
    "t.goto(-115,-215)\n",
    "t.pendown()\n",
    "t.forward(60)\n",
    "t.penup()\n",
    "t.goto(-115,-250)\n",
    "t.pendown()\n",
    "t.forward(60)\n",
    "\n",
    "# S letter\n",
    "t.penup()\n",
    "t.goto(-20,-180)\n",
    "t.pendown()\n",
    "t.forward(60)\n",
    "t.backward(60)\n",
    "t.right(90)\n",
    "t.forward(34)\n",
    "t.left(90)\n",
    "t.forward(60)\n",
    "t.right(90)\n",
    "t.forward(34)\n",
    "t.right(90)\n",
    "t.forward(60)\n",
    "\n",
    "# L letter\n",
    "t.penup()\n",
    "t.goto(70,-180)\n",
    "t.pendown()\n",
    "t.left(90)\n",
    "t.forward(70)\n",
    "t.left(90)\n",
    "t.forward(60)\n",
    "\n",
    "# A letter\n",
    "t.penup()\n",
    "t.goto(155,-180)\n",
    "t.pendown()\n",
    "t.forward(60)\n",
    "\n",
    "t.penup()\n",
    "t.goto(155,-250)\n",
    "t.pendown()\n",
    "t.left(90)\n",
    "t.forward(32.5)\n",
    "t.right(90)\n",
    "t.forward(60)\n",
    "t.right(90)\n",
    "t.forward(32.5)\n",
    "\n",
    "t.hideturtle()\n",
    "turtle.done()\n",
    "\n",
    "\n",
    "\n",
    "\n"
   ]
  },
  {
   "cell_type": "markdown",
   "id": "7bd5c3ee",
   "metadata": {},
   "source": [
    "# Avengers Logo using python"
   ]
  },
  {
   "cell_type": "code",
   "execution_count": null,
   "id": "1b6a0a64",
   "metadata": {},
   "outputs": [],
   "source": [
    "import turtle\n",
    "\n",
    "t = turtle.Turtle()\n",
    "t.getscreen().bgcolor(\"black\")\n",
    "t.speed(10)\n",
    "t.pensize(10)\n",
    "t.penup()\n",
    "\n",
    "def draw_circle():\n",
    "    t.setposition(0,-280)\n",
    "    t.pendown()\n",
    "    t.begin_fill()\n",
    "    t.color(\"red\")\n",
    "    t.pencolor(\"white\")\n",
    "    t.circle(250)\n",
    "    t.end_fill()\n",
    "    t.penup()\n",
    "    \n",
    "    \n",
    "def draw_circle2():\n",
    "    t.pensize(2)\n",
    "    t.setposition(0,-230)\n",
    "    t.pendown()\n",
    "    t.begin_fill()\n",
    "    t.color(\"black\")\n",
    "    t.circle(200)\n",
    "    t.end_fill()\n",
    "    t.penup()\n",
    "    \n",
    "    \n",
    "def draw_A():\n",
    "    t.setposition(30,-110)\n",
    "    t.pendown()\n",
    "    t.begin_fill()\n",
    "    t.color(\"red\")\n",
    "    t.pensize(5)\n",
    "    t.pencolor(\"white\")\n",
    "    t.forward(23)\n",
    "    t.backward(123)\n",
    "    t.left(60)\n",
    "    t.backward(220)\n",
    "    t.right(60)\n",
    "    t.backward(100)\n",
    "    t.right(117)\n",
    "    t.backward(710)\n",
    "    t.right(63)\n",
    "    t.backward(110)\n",
    "    t.right(90)\n",
    "    t.backward(510)\n",
    "    t.right(90)\n",
    "    t.backward(100)\n",
    "    t.right(90)\n",
    "    t.backward(70)\n",
    "    t.end_fill()\n",
    "    t.penup()\n",
    "    \n",
    "def draw_triangle():\n",
    "    t.pensize(5)\n",
    "    t.setposition(53,-40)\n",
    "    t.pendown()\n",
    "    t.begin_fill()\n",
    "    t.color(\"black\")\n",
    "    t.pencolor(\"white\")\n",
    "    t.right(90)\n",
    "    t.forward(100)\n",
    "    t.right(115)\n",
    "    t.forward(250)\n",
    "    t.right(157)\n",
    "    t.forward(227)\n",
    "    t.end_fill()\n",
    "    \n",
    "    \n",
    "def draw_arrow():\n",
    "    t.backward(80)\n",
    "    t.left(42)\n",
    "    t.forward(147)\n",
    "    t.right(83)\n",
    "    t.forward(140)\n",
    "    \n",
    "draw_circle()\n",
    "draw_circle2()\n",
    "draw_A()\n",
    "draw_triangle()\n",
    "draw_arrow()\n",
    "\n",
    "t.hideturtle()\n",
    "turtle.done()\n",
    "\n",
    "    \n",
    "    "
   ]
  },
  {
   "cell_type": "markdown",
   "id": "6f595c14",
   "metadata": {},
   "source": [
    "# Rainbow benze using python"
   ]
  },
  {
   "cell_type": "code",
   "execution_count": 1,
   "id": "dcada075",
   "metadata": {},
   "outputs": [],
   "source": [
    "import turtle\n",
    "colours = [\"red\",\"purple\",\"green\",\"orange\",\"blue\",]\n",
    "t = turtle.Pen()\n",
    "turtle.bgcolor(\"black\")\n",
    "for x in range(360):\n",
    "    t.pencolor(colours[x%5])\n",
    "    t.width(x//100 +1)\n",
    "    t.forward(x)\n",
    "    t.left(59)\n",
    "    "
   ]
  },
  {
   "cell_type": "markdown",
   "id": "6260e6aa",
   "metadata": {},
   "source": [
    "# flower using turtle module"
   ]
  },
  {
   "cell_type": "code",
   "execution_count": 1,
   "id": "1d717f30",
   "metadata": {},
   "outputs": [],
   "source": [
    "import turtle\n",
    "turtle.title(\"Sixteen Petals of Flowers\")\n",
    "turtle.setworldcoordinates(-2000,-2000, 2000,2000)\n",
    "\n",
    "def draw_flower(x,y,tilt,radius):\n",
    "    turtle.up()\n",
    "    turtle.goto(x,y)\n",
    "    turtle.down()\n",
    "    turtle.seth(tilt-45)\n",
    "    turtle.circle(radius,90)\n",
    "    turtle.left(90)\n",
    "    turtle.circle(radius,90)\n",
    "    \n",
    "for tilt in range(0,260,30):\n",
    "    draw_flower(0,0,tilt,1000)"
   ]
  },
  {
   "cell_type": "markdown",
   "id": "920d9d85",
   "metadata": {},
   "source": [
    "# IRON MAN FACE"
   ]
  },
  {
   "cell_type": "code",
   "execution_count": 2,
   "id": "3b3c2d3d",
   "metadata": {},
   "outputs": [
    {
     "name": "stdout",
     "output_type": "stream",
     "text": [
      "Requirement already satisfied: sketchpy in c:\\users\\tharun\\downloads\\fda\\myenv\\lib\\site-packages (0.0.22)\n",
      "Requirement already satisfied: turtle==0.0.1 in c:\\users\\tharun\\downloads\\fda\\myenv\\lib\\site-packages (from sketchpy) (0.0.1)\n"
     ]
    },
    {
     "name": "stderr",
     "output_type": "stream",
     "text": [
      "WARNING: You are using pip version 20.2.3; however, version 22.0.4 is available.\n",
      "You should consider upgrading via the 'c:\\users\\tharun\\downloads\\fda\\myenv\\scripts\\python.exe -m pip install --upgrade pip' command.\n"
     ]
    },
    {
     "name": "stdout",
     "output_type": "stream",
     "text": [
      "Requirement already satisfied: numpy in c:\\users\\tharun\\downloads\\fda\\myenv\\lib\\site-packages (from sketchpy) (1.22.3)\n",
      "Requirement already satisfied: wheel in c:\\users\\tharun\\downloads\\fda\\myenv\\lib\\site-packages (from sketchpy) (0.37.1)\n",
      "Requirement already satisfied: svg.path in c:\\users\\tharun\\downloads\\fda\\myenv\\lib\\site-packages (from sketchpy) (6.0)\n",
      "Requirement already satisfied: tqdm in c:\\users\\tharun\\downloads\\fda\\myenv\\lib\\site-packages (from sketchpy) (4.62.3)\n",
      "Requirement already satisfied: opencv-python in c:\\users\\tharun\\downloads\\fda\\myenv\\lib\\site-packages (from sketchpy) (4.5.5.62)\n",
      "Requirement already satisfied: svgpathtools in c:\\users\\tharun\\downloads\\fda\\myenv\\lib\\site-packages (from sketchpy) (1.4.4)\n",
      "Requirement already satisfied: PyYAML>=3.08 in c:\\users\\tharun\\downloads\\fda\\myenv\\lib\\site-packages (from turtle==0.0.1->sketchpy) (6.0)\n",
      "Requirement already satisfied: colorama; platform_system == \"Windows\" in c:\\users\\tharun\\downloads\\fda\\myenv\\lib\\site-packages (from tqdm->sketchpy) (0.4.4)\n",
      "Requirement already satisfied: scipy in c:\\users\\tharun\\downloads\\fda\\myenv\\lib\\site-packages (from svgpathtools->sketchpy) (1.7.1)\n",
      "Requirement already satisfied: svgwrite in c:\\users\\tharun\\downloads\\fda\\myenv\\lib\\site-packages (from svgpathtools->sketchpy) (1.4.2)\n"
     ]
    }
   ],
   "source": [
    "!pip install sketchpy"
   ]
  },
  {
   "cell_type": "code",
   "execution_count": 1,
   "id": "97565f62",
   "metadata": {},
   "outputs": [],
   "source": [
    "from sketchpy import library as lib\n",
    "\n",
    "obj = lib.rdj()\n",
    "obj.draw()"
   ]
  },
  {
   "cell_type": "markdown",
   "id": "1848dc35",
   "metadata": {},
   "source": [
    "# python turtle graphics animation"
   ]
  },
  {
   "cell_type": "code",
   "execution_count": null,
   "id": "df766969",
   "metadata": {},
   "outputs": [],
   "source": [
    "import turtle\n",
    "from math import * \n",
    "import colorsys\n",
    "window = turtle.Screen()\n",
    "window.bgcolor('navy')\n",
    "\n",
    "mypen = turtle.Turtle()\n",
    "mypen.shape('classic')\n",
    "window.tracer(10)\n",
    "mypen.speed(0)\n",
    "mypen.pensize(3)\n",
    "mypen.color(\"lime\")\n",
    "mypen.ht()\n",
    "\n",
    "t = 0\n",
    "hue  = 0.8\n",
    "r = 6400\n",
    "mypen.up()\n",
    "for i in range(r):\n",
    "    c1 = colorsys.hsv_to_rgb(hue,1,1)\n",
    "    t+=0.001\n",
    "    x = cos(t)+0.2*(cos(155*t)+sin(330*t))\n",
    "    y = sin(t)+0.2*(sin(155*t)+cos(330*t))\n",
    "    mypen.color(c1)\n",
    "    mypen.goto(230*x,230*y)\n",
    "    mypen.down()\n",
    "    hue+=0.00004\n",
    "turtle.done()    "
   ]
  },
  {
   "cell_type": "markdown",
   "id": "68a0cd7e",
   "metadata": {},
   "source": [
    "# Google logo using python"
   ]
  },
  {
   "cell_type": "code",
   "execution_count": null,
   "id": "9ef7c86b",
   "metadata": {},
   "outputs": [],
   "source": [
    "import turtle\n",
    "\n",
    "def drawGoogle():\n",
    "    window = turtle.Screen()\n",
    "    window.bgcolor(\"white\")\n",
    "    \n",
    "    cursor = turtle.Turtle()\n",
    "    cursor.color(\"#4285F4\",\"#4285f4\") # RBG\n",
    "    cursor.pensize(5)\n",
    "    cursor.speed(8)\n",
    "    \n",
    "    cursor.forward(120)\n",
    "    cursor.right(90)\n",
    "    cursor.circle(-150,50)\n",
    "    \n",
    "    # first circle for red color\n",
    "    cursor.color(\"#0F9D58\")\n",
    "    cursor.circle(-150,100)\n",
    "    cursor.color(\"#F4B400\")\n",
    "    cursor.circle(-150,60)\n",
    "    cursor.color(\"#DB4437\",\"#DB4437\")\n",
    "    \n",
    "    cursor.begin_fill()\n",
    "    cursor.circle(-150,100)\n",
    "    cursor.right(90)\n",
    "    cursor.forward(50)\n",
    "    cursor.right(90)\n",
    "    cursor.circle(100,100)\n",
    "    cursor.right(90)\n",
    "    cursor.forward(50)\n",
    "    cursor.end_fill()\n",
    "    cursor.begin_fill()\n",
    "    \n",
    "    # second circle for yellow color\n",
    "    cursor.pencolor(\"yellow\")\n",
    "    cursor.fillcolor(\"yellow\")\n",
    "    cursor.right(180)\n",
    "    cursor.forward(50)\n",
    "    cursor.right(90)\n",
    "    \n",
    "    cursor.circle(100,60)\n",
    "    cursor.right(90)\n",
    "    cursor.forward(50)\n",
    "    cursor.right(90)\n",
    "    cursor.circle(-150,60)\n",
    "    cursor.end_fill()\n",
    "    \n",
    "    \n",
    "    # third circle for green color\n",
    "    cursor.right(90)\n",
    "    cursor.forward(50)\n",
    "    cursor.right(90)\n",
    "    cursor.circle(100,60)\n",
    "    cursor.color(\"#0F9D58\",\"#0F9D58\")\n",
    "    cursor.begin_fill()\n",
    "    cursor.circle(100,100)\n",
    "    cursor.right(90)\n",
    "    cursor.forward(50)\n",
    "    cursor.right(90)\n",
    "    cursor.circle(-150,100)\n",
    "    cursor.right(90)\n",
    "    cursor.forward(50)\n",
    "    cursor.end_fill()\n",
    "    \n",
    "    \n",
    "    # Draw last circle\n",
    "    cursor.right(90)\n",
    "    cursor.circle(100,100)\n",
    "    cursor.color(\"#4285F4\",\"#4285F4\")\n",
    "    cursor.begin_fill()\n",
    "    cursor.circle(100,25)\n",
    "    cursor.left(115)\n",
    "    cursor.forward(65)\n",
    "    cursor.right(90)\n",
    "    cursor.forward(42)\n",
    "    cursor.right(90)\n",
    "    cursor.forward(124)\n",
    "    cursor.right(90)\n",
    "    cursor.circle(-150,50)\n",
    "    cursor.right(90)\n",
    "    cursor.forward(50)\n",
    "    \n",
    "    cursor.end_fill()\n",
    "    cursor.penup()\n",
    "    window.exitonclick()\n",
    "    \n",
    "    \n",
    "drawGoogle()\n",
    "    "
   ]
  },
  {
   "cell_type": "markdown",
   "id": "e082d6cb",
   "metadata": {},
   "source": [
    "# SPINDLE DESIGN"
   ]
  },
  {
   "cell_type": "code",
   "execution_count": 1,
   "id": "32186029",
   "metadata": {},
   "outputs": [],
   "source": [
    "import turtle\n",
    "from turtle import *\n",
    "import colorsys\n",
    "\n",
    "wn= Screen()\n",
    "wn.setup(1000,580)\n",
    "wn.bgcolor(\"black\")\n",
    "\n",
    "t = Turtle()\n",
    "t.speed(0)\n",
    "t.hideturtle()\n",
    "hue = 0.0\n",
    "\n",
    "for i in range(400):\n",
    "    color = colorsys.hsv_to_rgb(hue,1,1)\n",
    "    t.pencolor(color)\n",
    "    t.pensize(2)\n",
    "    t.begin_fill()\n",
    "    t.fd(i)\n",
    "    t.rt(160)\n",
    "    \n",
    "    for j in range(3):\n",
    "        t.fd(i)\n",
    "        t.rt(190)\n",
    "        \n",
    "    t.end_fill()\n",
    "    hue+=0.01   \n",
    "        \n",
    "wn.mainloop()    "
   ]
  },
  {
   "cell_type": "markdown",
   "id": "0265332d",
   "metadata": {},
   "source": [
    "# TCS LOGO USING PYTHON"
   ]
  },
  {
   "cell_type": "code",
   "execution_count": 1,
   "id": "1ea20c53",
   "metadata": {},
   "outputs": [],
   "source": [
    "from turtle import *\n",
    "right(45)\n",
    "color('#486baf')\n",
    "begin_fill()\n",
    "for i in range(2):\n",
    "    circle(200,90,None)\n",
    "    circle(100,90,None)\n",
    "end_fill()\n",
    "penup()\n",
    "forward(136)\n",
    "left(130)\n",
    "forward(39)\n",
    "pendown()\n",
    "color('#ffffff')\n",
    "begin_fill()\n",
    "forward(145)\n",
    "left(105)\n",
    "forward(5)\n",
    "left(355)\n",
    "forward(140)\n",
    "right(120)\n",
    "forward(25)\n",
    "right(60)\n",
    "forward(152)\n",
    "right(94)\n",
    "forward(173)\n",
    "right(98)\n",
    "forward(35)\n",
    "penup()\n",
    "left(180)\n",
    "forward(52)\n",
    "pendown()\n",
    "left(98)\n",
    "forward(173)\n",
    "right(94)\n",
    "forward(155)\n",
    "right(60)\n",
    "forward(25)\n",
    "right(120)\n",
    "forward(145)\n",
    "left(98)\n",
    "forward(147)\n",
    "right(94)\n",
    "forward(30)\n",
    "end_fill()\n",
    "hideturtle()\n",
    "done()"
   ]
  },
  {
   "cell_type": "markdown",
   "id": "2dc616ed",
   "metadata": {},
   "source": [
    "# Star using python"
   ]
  },
  {
   "cell_type": "code",
   "execution_count": 1,
   "id": "dd29bf88",
   "metadata": {},
   "outputs": [],
   "source": [
    "import turtle\n",
    "Screen = turtle.Turtle()\n",
    "col = [\"red\",'green','yellow','purple','blue']\n",
    "turtle.pensize(4)\n",
    "turtle.penup() # Draw a star\n",
    "turtle.setpos(-90,30)\n",
    "turtle.pendown()\n",
    "for i in range(5):\n",
    "    turtle.pencolor(col[i])\n",
    "    turtle.forward(200)\n",
    "    turtle.right(144)\n",
    "\n",
    "turtle.penup()\n",
    "turtle.setpos(80,-140)\n",
    "turtle.pendown()\n",
    "\n",
    "\n",
    "turtle.pencolor(\"Black\")\n",
    "turtle.done()\n"
   ]
  },
  {
   "cell_type": "markdown",
   "id": "8a7dacc0",
   "metadata": {},
   "source": [
    "# shape-6"
   ]
  },
  {
   "cell_type": "code",
   "execution_count": null,
   "id": "ab27a333",
   "metadata": {},
   "outputs": [],
   "source": [
    "import turtle as t\n",
    "import colorsys\n",
    "a = t.Turtle()\n",
    "b = t.Screen()\n",
    "b.bgcolor(\"black\")\n",
    "a.speed(0)\n",
    "a.pensize(1)\n",
    "u = 6\n",
    "for i in range(150):\n",
    "    f=colorsys.hsv_to_rgb(u,0.7,0.9)\n",
    "    a.pencolor(f)\n",
    "    u+=0.006\n",
    "    a.circle(i/2,240)\n",
    "    a.rt(40)\n",
    "    for j in range(4):\n",
    "        a.right(40)\n",
    "a.hideturtle()\n",
    "t.done()"
   ]
  },
  {
   "cell_type": "markdown",
   "id": "89175c11",
   "metadata": {},
   "source": [
    "# shape-7"
   ]
  },
  {
   "cell_type": "code",
   "execution_count": 1,
   "id": "67ce674a",
   "metadata": {},
   "outputs": [],
   "source": [
    "from turtle import *\n",
    "import colorsys\n",
    "speed(0)\n",
    "bgcolor('black')\n",
    "h = 4\n",
    "for i in range(180):\n",
    "    c = colorsys.hsv_to_rgb(h,1,0.7)\n",
    "    color(c)\n",
    "    h+=0.004\n",
    "    fd(i)\n",
    "    lt(200)\n",
    "    for j in range(2):\n",
    "        fd(i)\n",
    "        rt(20)\n",
    "        for k in range(2):\n",
    "            rt(20)\n",
    "    rt(20)\n",
    "done()"
   ]
  },
  {
   "cell_type": "markdown",
   "id": "d8569b1f",
   "metadata": {},
   "source": [
    "# INDIAN FLAG"
   ]
  },
  {
   "cell_type": "code",
   "execution_count": 1,
   "id": "53fa0791",
   "metadata": {},
   "outputs": [],
   "source": [
    "import turtle\n",
    "from turtle import *\n",
    "screen = turtle.Screen()\n",
    "\n",
    "t = turtle.Turtle()\n",
    "speed(0)\n",
    "\n",
    "#intially penup()\n",
    "t.penup()\n",
    "t.goto(-400,250)\n",
    "t.pendown()\n",
    "\n",
    "# Orange Rectangle \n",
    "# White rectangle\n",
    "t.color('orange')\n",
    "t.begin_fill()\n",
    "t.forward(800)\n",
    "t.right(90)\n",
    "t.forward(167)\n",
    "t.right(90)\n",
    "t.forward(800)\n",
    "t.end_fill()\n",
    "t.left(90)\n",
    "t.forward(167)\n",
    "\n",
    "# Green Rectangle\n",
    "t.color('green')\n",
    "t.begin_fill()\n",
    "t.forward(167)\n",
    "t.left(90)\n",
    "t.forward(800)\n",
    "t.left(90)\n",
    "t.forward(167)\n",
    "t.end_fill()\n",
    "\n",
    "# Big blue circle\n",
    "t.penup()\n",
    "t.goto(70,0)\n",
    "t.pendown()\n",
    "t.color('navy')\n",
    "t.begin_fill()\n",
    "t.circle(70)\n",
    "t.end_fill()\n",
    "\n",
    "# Big White color\n",
    "t.penup()\n",
    "t.goto(60,0)\n",
    "t.pendown()\n",
    "t.color('white')\n",
    "t.begin_fill()\n",
    "t.circle(60)\n",
    "t.end_fill()\n",
    "\n",
    "# Mini Blue circles\n",
    "t.penup()\n",
    "t.goto(-57,-8)\n",
    "t.pendown()\n",
    "t.color('navy')\n",
    "for i in range(24):\n",
    "    t.begin_fill()\n",
    "    t.circle(3)\n",
    "    t.end_fill()\n",
    "    t.penup()\n",
    "    t.forward(15)\n",
    "    t.right(15)\n",
    "    t.pendown()\n",
    "    \n",
    "# Small Blue circle\n",
    "t.penup()\n",
    "t.goto(20,0)\n",
    "t.pendown()\n",
    "t.begin_fill()\n",
    "t.circle(20)\n",
    "t.end_fill()\n",
    "\n",
    "# Spokes\n",
    "t.penup()\n",
    "t.goto(0,0)\n",
    "t.pendown()\n",
    "t.pensize(2)\n",
    "for i in range(24):\n",
    "    t.forward(60)\n",
    "    t.backward(60)\n",
    "    t.left(15)\n",
    "    \n",
    "    \n",
    "turtle.done()\n"
   ]
  },
  {
   "cell_type": "markdown",
   "id": "1d5be154",
   "metadata": {},
   "source": [
    "# THOR SKETCH"
   ]
  },
  {
   "cell_type": "code",
   "execution_count": null,
   "id": "e7847f6b",
   "metadata": {},
   "outputs": [
    {
     "name": "stdout",
     "output_type": "stream",
     "text": [
      "image loaded from C:\\Users\\THARUN\\OneDrive\\Pictures\\Downloads\\THOR.jpg\n"
     ]
    },
    {
     "name": "stderr",
     "output_type": "stream",
     "text": [
      "100%|████████████████████████████████████████████████████████████████████████████████| 168/168 [00:05<00:00, 32.73it/s]\n"
     ]
    },
    {
     "name": "stdout",
     "output_type": "stream",
     "text": [
      "done!\n"
     ]
    }
   ],
   "source": [
    "from sketchpy import canvas\n",
    "obj = canvas.sketch_from_image(\"C:\\\\Users\\\\THARUN\\\\OneDrive\\\\Pictures\\\\Downloads\\\\THOR.jpg\")\n",
    "obj.draw(threshold = 140)"
   ]
  },
  {
   "cell_type": "markdown",
   "id": "d05f7502",
   "metadata": {},
   "source": [
    "# FRIENDS SKETCH"
   ]
  },
  {
   "cell_type": "code",
   "execution_count": 1,
   "id": "960353b1",
   "metadata": {},
   "outputs": [
    {
     "name": "stdout",
     "output_type": "stream",
     "text": [
      "image loaded from C:\\Users\\THARUN\\OneDrive\\Pictures\\Camera Roll\\friends.jpeg\n"
     ]
    },
    {
     "name": "stderr",
     "output_type": "stream",
     "text": [
      "100%|████████████████████████████████████████████████████████████████████████████████| 864/864 [02:33<00:00,  5.61it/s]\n"
     ]
    },
    {
     "name": "stdout",
     "output_type": "stream",
     "text": [
      "done!\n"
     ]
    }
   ],
   "source": [
    "from sklearn.preprocessing import scale\n",
    "from sketchpy import canvas\n",
    "obj = canvas.sketch_from_image(\"C:\\\\Users\\\\THARUN\\\\OneDrive\\\\Pictures\\\\Camera Roll\\\\friends.jpeg\")\n",
    "obj.draw()"
   ]
  },
  {
   "cell_type": "markdown",
   "id": "d8fe86c4",
   "metadata": {},
   "source": [
    "# IRON_MAN pencil sketch"
   ]
  },
  {
   "cell_type": "code",
   "execution_count": null,
   "id": "2aabdd6d",
   "metadata": {},
   "outputs": [],
   "source": [
    "import cv2\n",
    "img = cv2.imread(\"C:\\\\Users\\\\THARUN\\\\OneDrive\\\\Pictures\\\\Downloads\\\\IRON_MAN.jpg\")\n",
    "gray_image = cv2.cvtColor(img,cv2.COLOR_BGR2GRAY)\n",
    "inverted_image =255- gray_image\n",
    "blurred = cv2.GaussianBlur(inverted_image,(21,21),5)\n",
    "inverted_blured = 255-blurred\n",
    "pencil_sketch = cv2.divide(gray_image,inverted_blured,scale=256.0)\n",
    "\n",
    "cv2.imshow(\"original Image\",img)\n",
    "cv2.imshow(\"pencil sketch\",pencil_sketch)\n",
    "cv2.waitKey(0)"
   ]
  },
  {
   "cell_type": "code",
   "execution_count": null,
   "id": "bc639cf2",
   "metadata": {},
   "outputs": [],
   "source": []
  }
 ],
 "metadata": {
  "kernelspec": {
   "display_name": "Python 3",
   "language": "python",
   "name": "python3"
  },
  "language_info": {
   "codemirror_mode": {
    "name": "ipython",
    "version": 3
   },
   "file_extension": ".py",
   "mimetype": "text/x-python",
   "name": "python",
   "nbconvert_exporter": "python",
   "pygments_lexer": "ipython3",
   "version": "3.9.4"
  }
 },
 "nbformat": 4,
 "nbformat_minor": 5
}
